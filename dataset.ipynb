{
 "cells": [
  {
   "cell_type": "code",
   "execution_count": 1,
   "id": "af8ff672",
   "metadata": {},
   "outputs": [],
   "source": [
    "import numpy as np\n",
    "import pandas as pd\n",
    "\n",
    "import matplotlib.pyplot as plt\n",
    "import seaborn as sns"
   ]
  },
  {
   "cell_type": "markdown",
   "id": "690a0d60",
   "metadata": {},
   "source": [
    "# Merging Data"
   ]
  },
  {
   "cell_type": "code",
   "execution_count": 2,
   "id": "fe21fc0a",
   "metadata": {},
   "outputs": [
    {
     "name": "stderr",
     "output_type": "stream",
     "text": [
      "<>:8: SyntaxWarning: invalid escape sequence '\\P'\n",
      "<>:8: SyntaxWarning: invalid escape sequence '\\P'\n",
      "C:\\Users\\91741\\AppData\\Local\\Temp\\ipykernel_15992\\2047840159.py:8: SyntaxWarning: invalid escape sequence '\\P'\n",
      "  df_2025 = pd.read_csv(\"data\\Pollutant Data\\City_wise_raw_data_1Hr_2025_Asansol_1Hr.csv\")\n"
     ]
    }
   ],
   "source": [
    "df_2018 = pd.read_csv(\"data/Pollutant Data/City_wise_raw_data_1Hr_2018_Asansol_1Hr.csv\")\n",
    "df_2019 = pd.read_csv(\"data/Pollutant Data/City_wise_raw_data_1Hr_2019_Asansol_1Hr.csv\")\n",
    "df_2020 = pd.read_csv(\"data/Pollutant Data/City_wise_raw_data_1Hr_2020_Asansol_1Hr.csv\")\n",
    "df_2021 = pd.read_csv(\"data/Pollutant Data/City_wise_raw_data_1Hr_2021_Asansol_1Hr.csv\")\n",
    "df_2022 = pd.read_csv(\"data/Pollutant Data/City_wise_raw_data_1Hr_2022_Asansol_1Hr.csv\")\n",
    "df_2023 = pd.read_csv(\"data/Pollutant Data/City_wise_raw_data_1Hr_2023_Asansol_1Hr.csv\")\n",
    "df_2024 = pd.read_csv(\"data/Pollutant Data/City_wise_raw_data_1Hr_2024_Asansol_1Hr.csv\")\n",
    "df_2025 = pd.read_csv(\"data\\Pollutant Data\\City_wise_raw_data_1Hr_2025_Asansol_1Hr.csv\")"
   ]
  },
  {
   "cell_type": "markdown",
   "id": "97d6f2a3",
   "metadata": {},
   "source": [
    "2025 dataset is in slightly different format"
   ]
  },
  {
   "cell_type": "markdown",
   "id": "8e69d473",
   "metadata": {},
   "source": [
    "<b>Null Value Percentage of each year's dataset</b>\n",
    "- 2018: 23%\n",
    "- 2019 : 6%\n",
    "- 2020 : 17%\n",
    "- 2021 : 11%\n",
    "- 2022 : 5%\n",
    "- 2023 : 9%\n",
    "- 2024 : 0.8%\n",
    "\n",
    "According to cpcb data below 30% null values can be used for forecasting "
   ]
  },
  {
   "cell_type": "code",
   "execution_count": 3,
   "id": "c8f741af",
   "metadata": {},
   "outputs": [],
   "source": [
    "df_concat = pd.concat([df_2018, df_2019, df_2020, df_2021, df_2022, df_2023, df_2024], ignore_index=True)"
   ]
  },
  {
   "cell_type": "code",
   "execution_count": 4,
   "id": "b90239e5",
   "metadata": {},
   "outputs": [
    {
     "name": "stdout",
     "output_type": "stream",
     "text": [
      "Index(['Timestamp', 'PM2.5 (µg/m³)', 'PM10 (µg/m³)', 'NO (µg/m³)',\n",
      "       'NO2 (µg/m³)', 'NOx (ppb)', 'NH3 (µg/m³)', 'SO2 (µg/m³)', 'CO (mg/m³)',\n",
      "       'Ozone (µg/m³)', 'Benzene (µg/m³)', 'Toluene (µg/m³)', 'Xylene (µg/m³)',\n",
      "       'O Xylene (µg/m³)', 'Eth-Benzene (µg/m³)', 'MP-Xylene (µg/m³)',\n",
      "       'AT (°C)', 'RH (%)', 'WS (m/s)', 'WD (deg)', 'RF (mm)', 'TOT-RF (mm)',\n",
      "       'SR (W/mt2)', 'BP (mmHg)', 'VWS (m/s)'],\n",
      "      dtype='object')\n"
     ]
    }
   ],
   "source": [
    "print(df_concat.columns)"
   ]
  },
  {
   "cell_type": "markdown",
   "id": "9eb180e5",
   "metadata": {},
   "source": [
    "<b>We will be using 4 pollutants : PM2.5, PM10, NOx, SO2</b>"
   ]
  },
  {
   "cell_type": "code",
   "execution_count": 5,
   "id": "9b863fb8",
   "metadata": {},
   "outputs": [
    {
     "name": "stdout",
     "output_type": "stream",
     "text": [
      "<class 'pandas.core.frame.DataFrame'>\n",
      "RangeIndex: 61368 entries, 0 to 61367\n",
      "Data columns (total 5 columns):\n",
      " #   Column         Non-Null Count  Dtype  \n",
      "---  ------         --------------  -----  \n",
      " 0   Timestamp      61368 non-null  object \n",
      " 1   PM2.5 (µg/m³)  55570 non-null  float64\n",
      " 2   PM10 (µg/m³)   55892 non-null  float64\n",
      " 3   NOx (ppb)      54987 non-null  float64\n",
      " 4   SO2 (µg/m³)    55725 non-null  float64\n",
      "dtypes: float64(4), object(1)\n",
      "memory usage: 2.3+ MB\n"
     ]
    }
   ],
   "source": [
    "df_merged = df_concat[[\"Timestamp\", \"PM2.5 (µg/m³)\", \"PM10 (µg/m³)\", \"NOx (ppb)\", \"SO2 (µg/m³)\"]]\n",
    "df_merged.info()"
   ]
  },
  {
   "cell_type": "code",
   "execution_count": 6,
   "id": "f57b37d3",
   "metadata": {},
   "outputs": [
    {
     "data": {
      "text/html": [
       "<div>\n",
       "<style scoped>\n",
       "    .dataframe tbody tr th:only-of-type {\n",
       "        vertical-align: middle;\n",
       "    }\n",
       "\n",
       "    .dataframe tbody tr th {\n",
       "        vertical-align: top;\n",
       "    }\n",
       "\n",
       "    .dataframe thead th {\n",
       "        text-align: right;\n",
       "    }\n",
       "</style>\n",
       "<table border=\"1\" class=\"dataframe\">\n",
       "  <thead>\n",
       "    <tr style=\"text-align: right;\">\n",
       "      <th></th>\n",
       "      <th>Timestamp</th>\n",
       "      <th>PM2.5 (µg/m³)</th>\n",
       "      <th>PM10 (µg/m³)</th>\n",
       "      <th>NOx (ppb)</th>\n",
       "      <th>SO2 (µg/m³)</th>\n",
       "    </tr>\n",
       "  </thead>\n",
       "  <tbody>\n",
       "    <tr>\n",
       "      <th>0</th>\n",
       "      <td>2018-01-01 00:00:00</td>\n",
       "      <td>NaN</td>\n",
       "      <td>NaN</td>\n",
       "      <td>NaN</td>\n",
       "      <td>NaN</td>\n",
       "    </tr>\n",
       "    <tr>\n",
       "      <th>1</th>\n",
       "      <td>2018-01-01 01:00:00</td>\n",
       "      <td>NaN</td>\n",
       "      <td>NaN</td>\n",
       "      <td>NaN</td>\n",
       "      <td>NaN</td>\n",
       "    </tr>\n",
       "  </tbody>\n",
       "</table>\n",
       "</div>"
      ],
      "text/plain": [
       "             Timestamp  PM2.5 (µg/m³)  PM10 (µg/m³)  NOx (ppb)  SO2 (µg/m³)\n",
       "0  2018-01-01 00:00:00            NaN           NaN        NaN          NaN\n",
       "1  2018-01-01 01:00:00            NaN           NaN        NaN          NaN"
      ]
     },
     "execution_count": 6,
     "metadata": {},
     "output_type": "execute_result"
    }
   ],
   "source": [
    "df_merged.head(2)"
   ]
  },
  {
   "cell_type": "code",
   "execution_count": 7,
   "id": "747b99e5",
   "metadata": {},
   "outputs": [
    {
     "data": {
      "text/html": [
       "<div>\n",
       "<style scoped>\n",
       "    .dataframe tbody tr th:only-of-type {\n",
       "        vertical-align: middle;\n",
       "    }\n",
       "\n",
       "    .dataframe tbody tr th {\n",
       "        vertical-align: top;\n",
       "    }\n",
       "\n",
       "    .dataframe thead th {\n",
       "        text-align: right;\n",
       "    }\n",
       "</style>\n",
       "<table border=\"1\" class=\"dataframe\">\n",
       "  <thead>\n",
       "    <tr style=\"text-align: right;\">\n",
       "      <th></th>\n",
       "      <th>Timestamp</th>\n",
       "      <th>PM2.5 (µg/m³)</th>\n",
       "      <th>PM10 (µg/m³)</th>\n",
       "      <th>NOx (ppb)</th>\n",
       "      <th>SO2 (µg/m³)</th>\n",
       "    </tr>\n",
       "  </thead>\n",
       "  <tbody>\n",
       "    <tr>\n",
       "      <th>61366</th>\n",
       "      <td>2024-12-31 22:00:00</td>\n",
       "      <td>61.91</td>\n",
       "      <td>128.83</td>\n",
       "      <td>14.76</td>\n",
       "      <td>7.04</td>\n",
       "    </tr>\n",
       "    <tr>\n",
       "      <th>61367</th>\n",
       "      <td>2024-12-31 23:00:00</td>\n",
       "      <td>60.65</td>\n",
       "      <td>118.69</td>\n",
       "      <td>14.97</td>\n",
       "      <td>6.62</td>\n",
       "    </tr>\n",
       "  </tbody>\n",
       "</table>\n",
       "</div>"
      ],
      "text/plain": [
       "                 Timestamp  PM2.5 (µg/m³)  PM10 (µg/m³)  NOx (ppb)  \\\n",
       "61366  2024-12-31 22:00:00          61.91        128.83      14.76   \n",
       "61367  2024-12-31 23:00:00          60.65        118.69      14.97   \n",
       "\n",
       "       SO2 (µg/m³)  \n",
       "61366         7.04  \n",
       "61367         6.62  "
      ]
     },
     "execution_count": 7,
     "metadata": {},
     "output_type": "execute_result"
    }
   ],
   "source": [
    "df_merged.tail(2)"
   ]
  },
  {
   "cell_type": "code",
   "execution_count": 8,
   "id": "cbe6af48",
   "metadata": {},
   "outputs": [
    {
     "data": {
      "text/html": [
       "<div>\n",
       "<style scoped>\n",
       "    .dataframe tbody tr th:only-of-type {\n",
       "        vertical-align: middle;\n",
       "    }\n",
       "\n",
       "    .dataframe tbody tr th {\n",
       "        vertical-align: top;\n",
       "    }\n",
       "\n",
       "    .dataframe thead th {\n",
       "        text-align: right;\n",
       "    }\n",
       "</style>\n",
       "<table border=\"1\" class=\"dataframe\">\n",
       "  <thead>\n",
       "    <tr style=\"text-align: right;\">\n",
       "      <th></th>\n",
       "      <th>From Date</th>\n",
       "      <th>To Date</th>\n",
       "      <th>PM2.5</th>\n",
       "      <th>PM10</th>\n",
       "      <th>NOx</th>\n",
       "      <th>SO2</th>\n",
       "    </tr>\n",
       "  </thead>\n",
       "  <tbody>\n",
       "    <tr>\n",
       "      <th>0</th>\n",
       "      <td>01-01-2025 00:00</td>\n",
       "      <td>01-01-2025 01:00</td>\n",
       "      <td>71.80</td>\n",
       "      <td>119.16</td>\n",
       "      <td>19.39</td>\n",
       "      <td>12.55</td>\n",
       "    </tr>\n",
       "    <tr>\n",
       "      <th>1</th>\n",
       "      <td>01-01-2025 01:00</td>\n",
       "      <td>01-01-2025 02:00</td>\n",
       "      <td>69.47</td>\n",
       "      <td>112.67</td>\n",
       "      <td>18.54</td>\n",
       "      <td>12.11</td>\n",
       "    </tr>\n",
       "  </tbody>\n",
       "</table>\n",
       "</div>"
      ],
      "text/plain": [
       "          From Date           To Date  PM2.5    PM10    NOx    SO2\n",
       "0  01-01-2025 00:00  01-01-2025 01:00  71.80  119.16  19.39  12.55\n",
       "1  01-01-2025 01:00  01-01-2025 02:00  69.47  112.67  18.54  12.11"
      ]
     },
     "execution_count": 8,
     "metadata": {},
     "output_type": "execute_result"
    }
   ],
   "source": [
    "df_2025.head(2)"
   ]
  },
  {
   "cell_type": "markdown",
   "id": "b1e0e1f1",
   "metadata": {},
   "source": [
    "<b>Unit of Pollutants</b>  \n",
    "\n",
    "NOx : ppb - parts per billion  \n",
    "CO : mg/m³ - milligram per cubic meter  \n",
    "Remaining 6 pollutants : µg/m³ - microgram per cubic meter  \n",
    "\n",
    "1 mg = 1000 µg"
   ]
  },
  {
   "cell_type": "markdown",
   "id": "c724388d",
   "metadata": {},
   "source": [
    "# Preprocessing"
   ]
  },
  {
   "cell_type": "code",
   "execution_count": 9,
   "id": "2cda00cd",
   "metadata": {},
   "outputs": [],
   "source": [
    "df = df_merged.copy()"
   ]
  },
  {
   "cell_type": "code",
   "execution_count": 10,
   "id": "fc37503a",
   "metadata": {},
   "outputs": [],
   "source": [
    "#df = df.rename(columns = {\"PM2.5 (µg/m³)\":\"PM2.5\", \"PM10 (µg/m³)\":\"PM10\", \"NO (µg/m³)\":\"NO\", \"NO2 (µg/m³)\":\"NO2\", \n",
    "# \"NOx (ppb)\":\"NOx\", \"NH3 (µg/m³)\":\"NH3\", \"SO2 (µg/m³)\":\"SO2\", \"CO (mg/m³)\":\"CO\"})\n",
    "\n",
    "df = df.rename(columns = {\"PM2.5 (µg/m³)\":\"PM2.5\", \"PM10 (µg/m³)\":\"PM10\", \"NOx (ppb)\":\"NOx\", \"SO2 (µg/m³)\":\"SO2\"})\n",
    "df_2025 = df_2025.rename(columns={\"From Date\" : \"Timestamp\"}).drop([\"To Date\"], axis=1)\n",
    "\n",
    "df[\"Timestamp\"] = pd.to_datetime(df[\"Timestamp\"], errors=\"coerce\")\n",
    "df_2025[\"Timestamp\"] = pd.to_datetime(df_2025[\"Timestamp\"], errors=\"coerce\")"
   ]
  },
  {
   "cell_type": "code",
   "execution_count": 11,
   "id": "1864b522",
   "metadata": {},
   "outputs": [
    {
     "name": "stdout",
     "output_type": "stream",
     "text": [
      "<class 'pandas.core.frame.DataFrame'>\n",
      "DatetimeIndex: 65929 entries, 2018-01-01 00:00:00 to 2025-10-07 00:00:00\n",
      "Data columns (total 4 columns):\n",
      " #   Column  Non-Null Count  Dtype  \n",
      "---  ------  --------------  -----  \n",
      " 0   PM2.5   60040 non-null  float64\n",
      " 1   PM10    60370 non-null  float64\n",
      " 2   NOx     59424 non-null  float64\n",
      " 3   SO2     60241 non-null  float64\n",
      "dtypes: float64(4)\n",
      "memory usage: 2.5 MB\n"
     ]
    }
   ],
   "source": [
    "df = pd.concat([df, df_2025], ignore_index=True)\n",
    "df.to_csv(\"Asansol Merged.csv\", index=False)\n",
    "\n",
    "df = df.set_index(\"Timestamp\")\n",
    "\n",
    "df.info()"
   ]
  },
  {
   "cell_type": "code",
   "execution_count": 12,
   "id": "b7ea7a70",
   "metadata": {},
   "outputs": [
    {
     "name": "stdout",
     "output_type": "stream",
     "text": [
      "4595\n",
      "PM2.5    5889\n",
      "PM10     5559\n",
      "NOx      6505\n",
      "SO2      5688\n",
      "dtype: int64\n"
     ]
    }
   ],
   "source": [
    "print(df.duplicated().sum())\n",
    "print(df.isnull().sum())"
   ]
  },
  {
   "cell_type": "markdown",
   "id": "45eae97d",
   "metadata": {},
   "source": [
    "All 4550 duplicates are rows with all columns as null values"
   ]
  },
  {
   "cell_type": "code",
   "execution_count": 13,
   "id": "592d658d",
   "metadata": {},
   "outputs": [
    {
     "data": {
      "text/html": [
       "<div>\n",
       "<style scoped>\n",
       "    .dataframe tbody tr th:only-of-type {\n",
       "        vertical-align: middle;\n",
       "    }\n",
       "\n",
       "    .dataframe tbody tr th {\n",
       "        vertical-align: top;\n",
       "    }\n",
       "\n",
       "    .dataframe thead th {\n",
       "        text-align: right;\n",
       "    }\n",
       "</style>\n",
       "<table border=\"1\" class=\"dataframe\">\n",
       "  <thead>\n",
       "    <tr style=\"text-align: right;\">\n",
       "      <th></th>\n",
       "      <th>PM2.5</th>\n",
       "      <th>PM10</th>\n",
       "      <th>NOx</th>\n",
       "      <th>SO2</th>\n",
       "    </tr>\n",
       "    <tr>\n",
       "      <th>Timestamp</th>\n",
       "      <th></th>\n",
       "      <th></th>\n",
       "      <th></th>\n",
       "      <th></th>\n",
       "    </tr>\n",
       "  </thead>\n",
       "  <tbody>\n",
       "    <tr>\n",
       "      <th>2018-01-01 00:00:00</th>\n",
       "      <td>NaN</td>\n",
       "      <td>NaN</td>\n",
       "      <td>NaN</td>\n",
       "      <td>NaN</td>\n",
       "    </tr>\n",
       "    <tr>\n",
       "      <th>2018-01-01 01:00:00</th>\n",
       "      <td>NaN</td>\n",
       "      <td>NaN</td>\n",
       "      <td>NaN</td>\n",
       "      <td>NaN</td>\n",
       "    </tr>\n",
       "    <tr>\n",
       "      <th>2018-01-01 02:00:00</th>\n",
       "      <td>NaN</td>\n",
       "      <td>NaN</td>\n",
       "      <td>NaN</td>\n",
       "      <td>NaN</td>\n",
       "    </tr>\n",
       "    <tr>\n",
       "      <th>2018-01-01 03:00:00</th>\n",
       "      <td>NaN</td>\n",
       "      <td>NaN</td>\n",
       "      <td>NaN</td>\n",
       "      <td>NaN</td>\n",
       "    </tr>\n",
       "    <tr>\n",
       "      <th>2018-01-01 04:00:00</th>\n",
       "      <td>NaN</td>\n",
       "      <td>NaN</td>\n",
       "      <td>NaN</td>\n",
       "      <td>NaN</td>\n",
       "    </tr>\n",
       "  </tbody>\n",
       "</table>\n",
       "</div>"
      ],
      "text/plain": [
       "                     PM2.5  PM10  NOx  SO2\n",
       "Timestamp                                 \n",
       "2018-01-01 00:00:00    NaN   NaN  NaN  NaN\n",
       "2018-01-01 01:00:00    NaN   NaN  NaN  NaN\n",
       "2018-01-01 02:00:00    NaN   NaN  NaN  NaN\n",
       "2018-01-01 03:00:00    NaN   NaN  NaN  NaN\n",
       "2018-01-01 04:00:00    NaN   NaN  NaN  NaN"
      ]
     },
     "execution_count": 13,
     "metadata": {},
     "output_type": "execute_result"
    }
   ],
   "source": [
    "df.head()"
   ]
  },
  {
   "cell_type": "code",
   "execution_count": 14,
   "id": "133e1198",
   "metadata": {},
   "outputs": [
    {
     "data": {
      "text/html": [
       "<div>\n",
       "<style scoped>\n",
       "    .dataframe tbody tr th:only-of-type {\n",
       "        vertical-align: middle;\n",
       "    }\n",
       "\n",
       "    .dataframe tbody tr th {\n",
       "        vertical-align: top;\n",
       "    }\n",
       "\n",
       "    .dataframe thead th {\n",
       "        text-align: right;\n",
       "    }\n",
       "</style>\n",
       "<table border=\"1\" class=\"dataframe\">\n",
       "  <thead>\n",
       "    <tr style=\"text-align: right;\">\n",
       "      <th></th>\n",
       "      <th>PM2.5</th>\n",
       "      <th>PM10</th>\n",
       "      <th>NOx</th>\n",
       "      <th>SO2</th>\n",
       "    </tr>\n",
       "    <tr>\n",
       "      <th>Timestamp</th>\n",
       "      <th></th>\n",
       "      <th></th>\n",
       "      <th></th>\n",
       "      <th></th>\n",
       "    </tr>\n",
       "  </thead>\n",
       "  <tbody>\n",
       "    <tr>\n",
       "      <th>2025-09-07 23:00:00</th>\n",
       "      <td>27.57</td>\n",
       "      <td>54.24</td>\n",
       "      <td>24.53</td>\n",
       "      <td>10.09</td>\n",
       "    </tr>\n",
       "    <tr>\n",
       "      <th>2025-10-07 00:00:00</th>\n",
       "      <td>26.97</td>\n",
       "      <td>56.92</td>\n",
       "      <td>24.92</td>\n",
       "      <td>8.39</td>\n",
       "    </tr>\n",
       "  </tbody>\n",
       "</table>\n",
       "</div>"
      ],
      "text/plain": [
       "                     PM2.5   PM10    NOx    SO2\n",
       "Timestamp                                      \n",
       "2025-09-07 23:00:00  27.57  54.24  24.53  10.09\n",
       "2025-10-07 00:00:00  26.97  56.92  24.92   8.39"
      ]
     },
     "execution_count": 14,
     "metadata": {},
     "output_type": "execute_result"
    }
   ],
   "source": [
    "df.tail(2)"
   ]
  },
  {
   "cell_type": "markdown",
   "id": "e7f8b948",
   "metadata": {},
   "source": [
    "### Remove large blocks of Null Values"
   ]
  },
  {
   "cell_type": "code",
   "execution_count": 15,
   "id": "9b24cb78",
   "metadata": {},
   "outputs": [],
   "source": [
    "df = df[df.index >= \"2018-02-01 10:00:00\"]   # Removed entire january month due to null values"
   ]
  },
  {
   "cell_type": "code",
   "execution_count": 16,
   "id": "453735f9",
   "metadata": {},
   "outputs": [
    {
     "data": {
      "text/plain": [
       "3826"
      ]
     },
     "execution_count": 16,
     "metadata": {},
     "output_type": "execute_result"
    }
   ],
   "source": [
    "df.isnull().all(axis=1).sum()"
   ]
  },
  {
   "cell_type": "code",
   "execution_count": 17,
   "id": "96b59c82",
   "metadata": {},
   "outputs": [],
   "source": [
    "df[\"row_null\"] = df.isnull().all(axis=1).astype(int)"
   ]
  },
  {
   "cell_type": "code",
   "execution_count": 18,
   "id": "68786da6",
   "metadata": {},
   "outputs": [
    {
     "data": {
      "text/html": [
       "<div>\n",
       "<style scoped>\n",
       "    .dataframe tbody tr th:only-of-type {\n",
       "        vertical-align: middle;\n",
       "    }\n",
       "\n",
       "    .dataframe tbody tr th {\n",
       "        vertical-align: top;\n",
       "    }\n",
       "\n",
       "    .dataframe thead th {\n",
       "        text-align: right;\n",
       "    }\n",
       "</style>\n",
       "<table border=\"1\" class=\"dataframe\">\n",
       "  <thead>\n",
       "    <tr style=\"text-align: right;\">\n",
       "      <th></th>\n",
       "      <th>PM2.5</th>\n",
       "      <th>PM10</th>\n",
       "      <th>NOx</th>\n",
       "      <th>SO2</th>\n",
       "      <th>row_null</th>\n",
       "    </tr>\n",
       "    <tr>\n",
       "      <th>Timestamp</th>\n",
       "      <th></th>\n",
       "      <th></th>\n",
       "      <th></th>\n",
       "      <th></th>\n",
       "      <th></th>\n",
       "    </tr>\n",
       "  </thead>\n",
       "  <tbody>\n",
       "    <tr>\n",
       "      <th>2018-02-01 10:00:00</th>\n",
       "      <td>NaN</td>\n",
       "      <td>NaN</td>\n",
       "      <td>24.72</td>\n",
       "      <td>NaN</td>\n",
       "      <td>0</td>\n",
       "    </tr>\n",
       "    <tr>\n",
       "      <th>2018-02-01 11:00:00</th>\n",
       "      <td>131.02</td>\n",
       "      <td>238.25</td>\n",
       "      <td>31.02</td>\n",
       "      <td>30.63</td>\n",
       "      <td>0</td>\n",
       "    </tr>\n",
       "  </tbody>\n",
       "</table>\n",
       "</div>"
      ],
      "text/plain": [
       "                      PM2.5    PM10    NOx    SO2  row_null\n",
       "Timestamp                                                  \n",
       "2018-02-01 10:00:00     NaN     NaN  24.72    NaN         0\n",
       "2018-02-01 11:00:00  131.02  238.25  31.02  30.63         0"
      ]
     },
     "execution_count": 18,
     "metadata": {},
     "output_type": "execute_result"
    }
   ],
   "source": [
    "df.head(2)"
   ]
  },
  {
   "cell_type": "code",
   "execution_count": 19,
   "id": "b4ee21dc",
   "metadata": {},
   "outputs": [
    {
     "data": {
      "text/plain": [
       "(62559, 5)"
      ]
     },
     "execution_count": 19,
     "metadata": {},
     "output_type": "execute_result"
    }
   ],
   "source": [
    "df.shape"
   ]
  },
  {
   "cell_type": "code",
   "execution_count": 20,
   "id": "bd93b6c0",
   "metadata": {},
   "outputs": [
    {
     "data": {
      "text/plain": [
       "'block_center = (df[\\'row_null\\']\\n                .rolling(window=15, center=True)\\n                .sum() == 15)\\n\\n\\nblock_full = np.zeros(len(df), dtype=bool)\\n\\nfor idx in df[block_center].index:\\n    i = df.index.get_loc(idx)\\n    block_full[max(0, i-7):min(len(df), i+8)] = True\\n\\ndf[\\'block_null\\'] = block_full.astype(int)\\n\\ndf.to_csv(\"C:/Users/91741/Desktop/df_block.csv\")'"
      ]
     },
     "execution_count": 20,
     "metadata": {},
     "output_type": "execute_result"
    }
   ],
   "source": [
    "'''block_center = (df['row_null']\n",
    "                .rolling(window=15, center=True)\n",
    "                .sum() == 15)\n",
    "\n",
    "\n",
    "block_full = np.zeros(len(df), dtype=bool)\n",
    "\n",
    "for idx in df[block_center].index:\n",
    "    i = df.index.get_loc(idx)\n",
    "    block_full[max(0, i-7):min(len(df), i+8)] = True\n",
    "\n",
    "df['block_null'] = block_full.astype(int)\n",
    "\n",
    "df.to_csv(\"C:/Users/91741/Desktop/df_block.csv\")'''"
   ]
  },
  {
   "cell_type": "code",
   "execution_count": 21,
   "id": "72661695",
   "metadata": {},
   "outputs": [],
   "source": [
    "df = df[df[\"row_null\"] != 1]\n",
    "df = df.drop([\"row_null\"], axis=1)"
   ]
  },
  {
   "cell_type": "code",
   "execution_count": 22,
   "id": "d2243cee",
   "metadata": {},
   "outputs": [
    {
     "data": {
      "text/plain": [
       "0"
      ]
     },
     "execution_count": 22,
     "metadata": {},
     "output_type": "execute_result"
    }
   ],
   "source": [
    "df.isnull().all(axis=1).sum()"
   ]
  },
  {
   "cell_type": "code",
   "execution_count": 23,
   "id": "d057a254",
   "metadata": {},
   "outputs": [
    {
     "data": {
      "text/plain": [
       "PM2.5    1261\n",
       "PM10      932\n",
       "NOx      1852\n",
       "SO2      1084\n",
       "dtype: int64"
      ]
     },
     "execution_count": 23,
     "metadata": {},
     "output_type": "execute_result"
    }
   ],
   "source": [
    "df.isnull().sum()"
   ]
  },
  {
   "cell_type": "code",
   "execution_count": 24,
   "id": "ff67eeda",
   "metadata": {},
   "outputs": [
    {
     "name": "stderr",
     "output_type": "stream",
     "text": [
      "C:\\Users\\91741\\AppData\\Local\\Temp\\ipykernel_15992\\1354377464.py:5: FutureWarning: DataFrame.fillna with 'method' is deprecated and will raise in a future version. Use obj.ffill() or obj.bfill() instead.\n",
      "  df.fillna(method='ffill', limit=3, inplace=True)\n",
      "C:\\Users\\91741\\AppData\\Local\\Temp\\ipykernel_15992\\1354377464.py:6: FutureWarning: DataFrame.fillna with 'method' is deprecated and will raise in a future version. Use obj.ffill() or obj.bfill() instead.\n",
      "  df.fillna(method='bfill', limit=3, inplace=True)\n"
     ]
    }
   ],
   "source": [
    "# Step 1: Interpolate missing values (time-aware, continuous)\n",
    "df.interpolate(method='time', limit=12, inplace=True)\n",
    "\n",
    "# Step 2: Fill short edge gaps if any remain\n",
    "df.fillna(method='ffill', limit=3, inplace=True)\n",
    "df.fillna(method='bfill', limit=3, inplace=True)"
   ]
  },
  {
   "cell_type": "code",
   "execution_count": 25,
   "id": "4923a7a5",
   "metadata": {},
   "outputs": [],
   "source": [
    "df.dropna(inplace=True)"
   ]
  },
  {
   "cell_type": "code",
   "execution_count": 26,
   "id": "f89132da",
   "metadata": {},
   "outputs": [
    {
     "data": {
      "text/plain": [
       "PM2.5    0\n",
       "PM10     0\n",
       "NOx      0\n",
       "SO2      0\n",
       "dtype: int64"
      ]
     },
     "execution_count": 26,
     "metadata": {},
     "output_type": "execute_result"
    }
   ],
   "source": [
    "df.isnull().sum()"
   ]
  },
  {
   "cell_type": "code",
   "execution_count": 27,
   "id": "250f431a",
   "metadata": {},
   "outputs": [],
   "source": [
    "df.to_csv(\"data/Pollutant Data/Final Asansol Data.csv\")"
   ]
  },
  {
   "cell_type": "markdown",
   "id": "3842e097",
   "metadata": {},
   "source": [
    "# Satellite Images"
   ]
  },
  {
   "cell_type": "code",
   "execution_count": 28,
   "id": "100d80e5",
   "metadata": {},
   "outputs": [],
   "source": [
    "# ! pip install earthengine-api geemap rasterio"
   ]
  },
  {
   "cell_type": "code",
   "execution_count": 29,
   "id": "db6a6afb",
   "metadata": {},
   "outputs": [],
   "source": [
    "import ee\n",
    "import geemap\n",
    "\n",
    "from datetime import datetime, timedelta\n",
    "\n",
    "import os\n",
    "import contextlib\n",
    "import sys"
   ]
  },
  {
   "cell_type": "markdown",
   "id": "5416790b",
   "metadata": {},
   "source": [
    "<b>I have already authenticated my google account so it is in comment (below code 1st line)</b>  \n",
    "<b>Those who didnt cant download data from Google Earth Engine, you must uncomment 1st line and run</b>  \n",
    "<b>Or just use from my data/Asansol AOD folder</b>"
   ]
  },
  {
   "cell_type": "code",
   "execution_count": 30,
   "id": "d01a1bd3",
   "metadata": {},
   "outputs": [
    {
     "data": {
      "text/html": [
       "\n",
       "            <style>\n",
       "                .geemap-dark {\n",
       "                    --jp-widgets-color: white;\n",
       "                    --jp-widgets-label-color: white;\n",
       "                    --jp-ui-font-color1: white;\n",
       "                    --jp-layout-color2: #454545;\n",
       "                    background-color: #383838;\n",
       "                }\n",
       "\n",
       "                .geemap-dark .jupyter-button {\n",
       "                    --jp-layout-color3: #383838;\n",
       "                }\n",
       "\n",
       "                .geemap-colab {\n",
       "                    background-color: var(--colab-primary-surface-color, white);\n",
       "                }\n",
       "\n",
       "                .geemap-colab .jupyter-button {\n",
       "                    --jp-layout-color3: var(--colab-primary-surface-color, white);\n",
       "                }\n",
       "            </style>\n",
       "            "
      ],
      "text/plain": [
       "<IPython.core.display.HTML object>"
      ]
     },
     "metadata": {},
     "output_type": "display_data"
    }
   ],
   "source": [
    "#ee.Authenticate()\n",
    "ee.Initialize(project=\"ee-kvrashwin\")\n",
    "\n",
    "# Define bounding box for Asansol\n",
    "asansol = ee.Geometry.Rectangle([86.82, 23.58, 87.05, 23.80])\n",
    "\n",
    "# Load MCD19A2 (MODIS MAIAC AOD granules)\n",
    "aod_dataset = ee.ImageCollection(\"MODIS/061/MCD19A2_GRANULES\") \\\n",
    "    .filterDate('2018-01-01', '2025-05-31') \\\n",
    "    .filterBounds(asansol) \\\n",
    "    .select('Optical_Depth_047')"
   ]
  },
  {
   "cell_type": "code",
   "execution_count": 31,
   "id": "07d9f13b",
   "metadata": {},
   "outputs": [
    {
     "data": {
      "text/html": [
       "\n",
       "            <style>\n",
       "                .geemap-dark {\n",
       "                    --jp-widgets-color: white;\n",
       "                    --jp-widgets-label-color: white;\n",
       "                    --jp-ui-font-color1: white;\n",
       "                    --jp-layout-color2: #454545;\n",
       "                    background-color: #383838;\n",
       "                }\n",
       "\n",
       "                .geemap-dark .jupyter-button {\n",
       "                    --jp-layout-color3: #383838;\n",
       "                }\n",
       "\n",
       "                .geemap-colab {\n",
       "                    background-color: var(--colab-primary-surface-color, white);\n",
       "                }\n",
       "\n",
       "                .geemap-colab .jupyter-button {\n",
       "                    --jp-layout-color3: var(--colab-primary-surface-color, white);\n",
       "                }\n",
       "            </style>\n",
       "            "
      ],
      "text/plain": [
       "<IPython.core.display.HTML object>"
      ]
     },
     "metadata": {},
     "output_type": "display_data"
    }
   ],
   "source": [
    "# Create weekly composites\n",
    "def make_weekly_composite(start_ms):\n",
    "    start = ee.Date(start_ms)\n",
    "    end = start.advance(7, 'day')\n",
    "    weekly = aod_dataset.filterDate(start, end).mean().clip(asansol)\n",
    "    return weekly.set('system:time_start', start)\n",
    "\n",
    "# Generate list of weekly dates\n",
    "start_date = ee.Date('2018-01-01')\n",
    "end_date = ee.Date('2025-05-31')\n",
    "n_weeks = end_date.difference(start_date, 'day').divide(7).floor().toInt()\n",
    "\n",
    "# Make list of start dates for each week\n",
    "weeks = ee.List.sequence(0, n_weeks.subtract(1)).map(\n",
    "    lambda w: start_date.advance(ee.Number(w).multiply(7), 'day').millis()\n",
    ")\n",
    "\n",
    "# Map weekly composites\n",
    "weekly_aod = ee.ImageCollection(weeks.map(make_weekly_composite))"
   ]
  },
  {
   "cell_type": "markdown",
   "id": "8411b270",
   "metadata": {},
   "source": [
    "<b>Since I have already downloaded the data i have commented this block</b>  \n",
    "<b>If you have not downloaded AOD-satellite images below block is needed to download each image</b>\n"
   ]
  },
  {
   "cell_type": "code",
   "execution_count": 32,
   "id": "37ae230d",
   "metadata": {},
   "outputs": [
    {
     "data": {
      "text/html": [
       "\n",
       "            <style>\n",
       "                .geemap-dark {\n",
       "                    --jp-widgets-color: white;\n",
       "                    --jp-widgets-label-color: white;\n",
       "                    --jp-ui-font-color1: white;\n",
       "                    --jp-layout-color2: #454545;\n",
       "                    background-color: #383838;\n",
       "                }\n",
       "\n",
       "                .geemap-dark .jupyter-button {\n",
       "                    --jp-layout-color3: #383838;\n",
       "                }\n",
       "\n",
       "                .geemap-colab {\n",
       "                    background-color: var(--colab-primary-surface-color, white);\n",
       "                }\n",
       "\n",
       "                .geemap-colab .jupyter-button {\n",
       "                    --jp-layout-color3: var(--colab-primary-surface-color, white);\n",
       "                }\n",
       "            </style>\n",
       "            "
      ],
      "text/plain": [
       "<IPython.core.display.HTML object>"
      ]
     },
     "metadata": {},
     "output_type": "display_data"
    },
    {
     "data": {
      "text/plain": [
       "'\\nwith open(os.devnull, \\'w\\') as fnull, contextlib.redirect_stdout(fnull):\\n\\n    geemap.ee_export_image_collection(\\n        ee_object=weekly_aod,\\n        out_dir=\"data/Asansol AOD\",\\n        scale=1000,\\n        region=asansol,\\n        format=\\'ZIPPED_GEO_TIFF\\'\\n    )\\n'"
      ]
     },
     "execution_count": 32,
     "metadata": {},
     "output_type": "execute_result"
    }
   ],
   "source": [
    "'''\n",
    "with open(os.devnull, 'w') as fnull, contextlib.redirect_stdout(fnull):\n",
    "\n",
    "    geemap.ee_export_image_collection(\n",
    "        ee_object=weekly_aod,\n",
    "        out_dir=\"data/Asansol AOD\",\n",
    "        scale=1000,\n",
    "        region=asansol,\n",
    "        format='ZIPPED_GEO_TIFF'\n",
    "    )\n",
    "'''"
   ]
  },
  {
   "cell_type": "code",
   "execution_count": null,
   "id": "9ca9dfa8",
   "metadata": {},
   "outputs": [],
   "source": []
  },
  {
   "cell_type": "markdown",
   "id": "8906dc2f",
   "metadata": {},
   "source": [
    "# Meteorological Data"
   ]
  },
  {
   "cell_type": "code",
   "execution_count": 33,
   "id": "7a81ebb6",
   "metadata": {},
   "outputs": [
    {
     "data": {
      "text/html": [
       "\n",
       "            <style>\n",
       "                .geemap-dark {\n",
       "                    --jp-widgets-color: white;\n",
       "                    --jp-widgets-label-color: white;\n",
       "                    --jp-ui-font-color1: white;\n",
       "                    --jp-layout-color2: #454545;\n",
       "                    background-color: #383838;\n",
       "                }\n",
       "\n",
       "                .geemap-dark .jupyter-button {\n",
       "                    --jp-layout-color3: #383838;\n",
       "                }\n",
       "\n",
       "                .geemap-colab {\n",
       "                    background-color: var(--colab-primary-surface-color, white);\n",
       "                }\n",
       "\n",
       "                .geemap-colab .jupyter-button {\n",
       "                    --jp-layout-color3: var(--colab-primary-surface-color, white);\n",
       "                }\n",
       "            </style>\n",
       "            "
      ],
      "text/plain": [
       "<IPython.core.display.HTML object>"
      ]
     },
     "metadata": {},
     "output_type": "display_data"
    },
    {
     "name": "stdout",
     "output_type": "stream",
     "text": [
      "Authenticate: Credentials already exist.  Use --force to refresh.\n"
     ]
    }
   ],
   "source": [
    "# %pip install earthengine-api\n",
    "! earthengine authenticate"
   ]
  },
  {
   "cell_type": "code",
   "execution_count": 34,
   "id": "15bffaad",
   "metadata": {},
   "outputs": [
    {
     "data": {
      "text/html": [
       "\n",
       "            <style>\n",
       "                .geemap-dark {\n",
       "                    --jp-widgets-color: white;\n",
       "                    --jp-widgets-label-color: white;\n",
       "                    --jp-ui-font-color1: white;\n",
       "                    --jp-layout-color2: #454545;\n",
       "                    background-color: #383838;\n",
       "                }\n",
       "\n",
       "                .geemap-dark .jupyter-button {\n",
       "                    --jp-layout-color3: #383838;\n",
       "                }\n",
       "\n",
       "                .geemap-colab {\n",
       "                    background-color: var(--colab-primary-surface-color, white);\n",
       "                }\n",
       "\n",
       "                .geemap-colab .jupyter-button {\n",
       "                    --jp-layout-color3: var(--colab-primary-surface-color, white);\n",
       "                }\n",
       "            </style>\n",
       "            "
      ],
      "text/plain": [
       "<IPython.core.display.HTML object>"
      ]
     },
     "metadata": {},
     "output_type": "display_data"
    },
    {
     "name": "stdout",
     "output_type": "stream",
     "text": [
      "Export task started for 2018\n",
      "Export task started for 2019\n",
      "Export task started for 2020\n",
      "Export task started for 2021\n",
      "Export task started for 2022\n",
      "Export task started for 2023\n",
      "Export task started for 2024\n",
      "Export task started for 2025\n"
     ]
    }
   ],
   "source": [
    "ee.Initialize(project = \"ee-kvrashwin\")\n",
    "\n",
    "# Define Asansol bounding box\n",
    "asansol = ee.Geometry.Rectangle([86.9, 23.6, 87.05, 23.75])\n",
    "\n",
    "# ERA5 variables you want\n",
    "vars = [\n",
    "    'temperature_2m',\n",
    "    'dewpoint_temperature_2m',\n",
    "    'u_component_of_wind_10m',\n",
    "    'v_component_of_wind_10m',\n",
    "    'surface_pressure',\n",
    "    'total_precipitation'\n",
    "]\n",
    "\n",
    "def export_yearly(year):\n",
    "    start = ee.Date.fromYMD(year, 1, 1)\n",
    "    end = start.advance(1, 'year')\n",
    "\n",
    "    era5 = (\n",
    "        ee.ImageCollection(\"ECMWF/ERA5_LAND/HOURLY\")\n",
    "        .filterDate(start, end)\n",
    "        .filterBounds(asansol)\n",
    "        .select(vars)\n",
    "    )\n",
    "\n",
    "    def reduce_fn(img):\n",
    "        reduced = img.reduceRegion(\n",
    "            reducer=ee.Reducer.mean(),\n",
    "            geometry=asansol,\n",
    "            scale=1000,\n",
    "            maxPixels=1e13\n",
    "        )\n",
    "        return ee.Feature(None, reduced).set('datetime', img.date().format('YYYY-MM-dd HH:mm:ss'))\n",
    "\n",
    "    reduced = era5.map(reduce_fn)\n",
    "    fc = ee.FeatureCollection(reduced)\n",
    "\n",
    "    task = ee.batch.Export.table.toDrive(\n",
    "        collection=fc,\n",
    "        description=f'ERA5_Asansol_{year}',\n",
    "        fileFormat='CSV'\n",
    "    )\n",
    "    task.start()\n",
    "    print(f\"Export task started for {year}\")\n",
    "\n",
    "for yr in range(2018, 2026):\n",
    "    export_yearly(yr)\n"
   ]
  },
  {
   "cell_type": "code",
   "execution_count": 35,
   "id": "c76de7b1",
   "metadata": {},
   "outputs": [
    {
     "data": {
      "text/html": [
       "\n",
       "            <style>\n",
       "                .geemap-dark {\n",
       "                    --jp-widgets-color: white;\n",
       "                    --jp-widgets-label-color: white;\n",
       "                    --jp-ui-font-color1: white;\n",
       "                    --jp-layout-color2: #454545;\n",
       "                    background-color: #383838;\n",
       "                }\n",
       "\n",
       "                .geemap-dark .jupyter-button {\n",
       "                    --jp-layout-color3: #383838;\n",
       "                }\n",
       "\n",
       "                .geemap-colab {\n",
       "                    background-color: var(--colab-primary-surface-color, white);\n",
       "                }\n",
       "\n",
       "                .geemap-colab .jupyter-button {\n",
       "                    --jp-layout-color3: var(--colab-primary-surface-color, white);\n",
       "                }\n",
       "            </style>\n",
       "            "
      ],
      "text/plain": [
       "<IPython.core.display.HTML object>"
      ]
     },
     "metadata": {},
     "output_type": "display_data"
    }
   ],
   "source": [
    "met_2018 = pd.read_csv(\"data/Meteorological Data/ERA5_Asansol_2018.csv\")\n",
    "met_2019 = pd.read_csv(\"data/Meteorological Data/ERA5_Asansol_2019.csv\")\n",
    "met_2020 = pd.read_csv(\"data/Meteorological Data/ERA5_Asansol_2020.csv\")\n",
    "met_2021 = pd.read_csv(\"data/Meteorological Data/ERA5_Asansol_2021.csv\")\n",
    "met_2022 = pd.read_csv(\"data/Meteorological Data/ERA5_Asansol_2022.csv\")\n",
    "met_2023 = pd.read_csv(\"data/Meteorological Data/ERA5_Asansol_2023.csv\")\n",
    "met_2024 = pd.read_csv(\"data/Meteorological Data/ERA5_Asansol_2024.csv\")\n",
    "met_2025 = pd.read_csv(\"data/Meteorological Data/ERA5_Asansol_2025.csv\")\n",
    "\n",
    "met_df = pd.concat([met_2018, met_2019, met_2020, met_2021, met_2022, met_2023, met_2024, met_2025], ignore_index=True)"
   ]
  },
  {
   "cell_type": "code",
   "execution_count": 36,
   "id": "8ce91844",
   "metadata": {},
   "outputs": [
    {
     "data": {
      "text/html": [
       "\n",
       "            <style>\n",
       "                .geemap-dark {\n",
       "                    --jp-widgets-color: white;\n",
       "                    --jp-widgets-label-color: white;\n",
       "                    --jp-ui-font-color1: white;\n",
       "                    --jp-layout-color2: #454545;\n",
       "                    background-color: #383838;\n",
       "                }\n",
       "\n",
       "                .geemap-dark .jupyter-button {\n",
       "                    --jp-layout-color3: #383838;\n",
       "                }\n",
       "\n",
       "                .geemap-colab {\n",
       "                    background-color: var(--colab-primary-surface-color, white);\n",
       "                }\n",
       "\n",
       "                .geemap-colab .jupyter-button {\n",
       "                    --jp-layout-color3: var(--colab-primary-surface-color, white);\n",
       "                }\n",
       "            </style>\n",
       "            "
      ],
      "text/plain": [
       "<IPython.core.display.HTML object>"
      ]
     },
     "metadata": {},
     "output_type": "display_data"
    },
    {
     "data": {
      "text/html": [
       "<div>\n",
       "<style scoped>\n",
       "    .dataframe tbody tr th:only-of-type {\n",
       "        vertical-align: middle;\n",
       "    }\n",
       "\n",
       "    .dataframe tbody tr th {\n",
       "        vertical-align: top;\n",
       "    }\n",
       "\n",
       "    .dataframe thead th {\n",
       "        text-align: right;\n",
       "    }\n",
       "</style>\n",
       "<table border=\"1\" class=\"dataframe\">\n",
       "  <thead>\n",
       "    <tr style=\"text-align: right;\">\n",
       "      <th></th>\n",
       "      <th>system:index</th>\n",
       "      <th>datetime</th>\n",
       "      <th>dewpoint_temperature_2m</th>\n",
       "      <th>surface_pressure</th>\n",
       "      <th>temperature_2m</th>\n",
       "      <th>total_precipitation</th>\n",
       "      <th>u_component_of_wind_10m</th>\n",
       "      <th>v_component_of_wind_10m</th>\n",
       "      <th>.geo</th>\n",
       "    </tr>\n",
       "  </thead>\n",
       "  <tbody>\n",
       "    <tr>\n",
       "      <th>0</th>\n",
       "      <td>20180101T00</td>\n",
       "      <td>2018-01-01 00:00:00</td>\n",
       "      <td>284.936512</td>\n",
       "      <td>99896.469118</td>\n",
       "      <td>286.210559</td>\n",
       "      <td>0.0</td>\n",
       "      <td>1.184674</td>\n",
       "      <td>-2.153044</td>\n",
       "      <td>{\"type\":\"MultiPoint\",\"coordinates\":[]}</td>\n",
       "    </tr>\n",
       "    <tr>\n",
       "      <th>1</th>\n",
       "      <td>20180101T01</td>\n",
       "      <td>2018-01-01 01:00:00</td>\n",
       "      <td>284.617116</td>\n",
       "      <td>99932.968385</td>\n",
       "      <td>285.871660</td>\n",
       "      <td>0.0</td>\n",
       "      <td>1.231400</td>\n",
       "      <td>-2.014057</td>\n",
       "      <td>{\"type\":\"MultiPoint\",\"coordinates\":[]}</td>\n",
       "    </tr>\n",
       "  </tbody>\n",
       "</table>\n",
       "</div>"
      ],
      "text/plain": [
       "  system:index             datetime  dewpoint_temperature_2m  \\\n",
       "0  20180101T00  2018-01-01 00:00:00               284.936512   \n",
       "1  20180101T01  2018-01-01 01:00:00               284.617116   \n",
       "\n",
       "   surface_pressure  temperature_2m  total_precipitation  \\\n",
       "0      99896.469118      286.210559                  0.0   \n",
       "1      99932.968385      285.871660                  0.0   \n",
       "\n",
       "   u_component_of_wind_10m  v_component_of_wind_10m  \\\n",
       "0                 1.184674                -2.153044   \n",
       "1                 1.231400                -2.014057   \n",
       "\n",
       "                                     .geo  \n",
       "0  {\"type\":\"MultiPoint\",\"coordinates\":[]}  \n",
       "1  {\"type\":\"MultiPoint\",\"coordinates\":[]}  "
      ]
     },
     "execution_count": 36,
     "metadata": {},
     "output_type": "execute_result"
    }
   ],
   "source": [
    "met_df.head(2)"
   ]
  },
  {
   "cell_type": "code",
   "execution_count": 37,
   "id": "9d4f64d5",
   "metadata": {},
   "outputs": [
    {
     "data": {
      "text/html": [
       "\n",
       "            <style>\n",
       "                .geemap-dark {\n",
       "                    --jp-widgets-color: white;\n",
       "                    --jp-widgets-label-color: white;\n",
       "                    --jp-ui-font-color1: white;\n",
       "                    --jp-layout-color2: #454545;\n",
       "                    background-color: #383838;\n",
       "                }\n",
       "\n",
       "                .geemap-dark .jupyter-button {\n",
       "                    --jp-layout-color3: #383838;\n",
       "                }\n",
       "\n",
       "                .geemap-colab {\n",
       "                    background-color: var(--colab-primary-surface-color, white);\n",
       "                }\n",
       "\n",
       "                .geemap-colab .jupyter-button {\n",
       "                    --jp-layout-color3: var(--colab-primary-surface-color, white);\n",
       "                }\n",
       "            </style>\n",
       "            "
      ],
      "text/plain": [
       "<IPython.core.display.HTML object>"
      ]
     },
     "metadata": {},
     "output_type": "display_data"
    }
   ],
   "source": [
    "met_df.drop([\"system:index\", \".geo\"], axis=1, inplace=True)"
   ]
  },
  {
   "cell_type": "code",
   "execution_count": 38,
   "id": "161da110",
   "metadata": {},
   "outputs": [
    {
     "data": {
      "text/html": [
       "\n",
       "            <style>\n",
       "                .geemap-dark {\n",
       "                    --jp-widgets-color: white;\n",
       "                    --jp-widgets-label-color: white;\n",
       "                    --jp-ui-font-color1: white;\n",
       "                    --jp-layout-color2: #454545;\n",
       "                    background-color: #383838;\n",
       "                }\n",
       "\n",
       "                .geemap-dark .jupyter-button {\n",
       "                    --jp-layout-color3: #383838;\n",
       "                }\n",
       "\n",
       "                .geemap-colab {\n",
       "                    background-color: var(--colab-primary-surface-color, white);\n",
       "                }\n",
       "\n",
       "                .geemap-colab .jupyter-button {\n",
       "                    --jp-layout-color3: var(--colab-primary-surface-color, white);\n",
       "                }\n",
       "            </style>\n",
       "            "
      ],
      "text/plain": [
       "<IPython.core.display.HTML object>"
      ]
     },
     "metadata": {},
     "output_type": "display_data"
    },
    {
     "name": "stdout",
     "output_type": "stream",
     "text": [
      "<class 'pandas.core.frame.DataFrame'>\n",
      "RangeIndex: 65856 entries, 0 to 65855\n",
      "Data columns (total 7 columns):\n",
      " #   Column                   Non-Null Count  Dtype  \n",
      "---  ------                   --------------  -----  \n",
      " 0   datetime                 65856 non-null  object \n",
      " 1   dewpoint_temperature_2m  65856 non-null  float64\n",
      " 2   surface_pressure         65856 non-null  float64\n",
      " 3   temperature_2m           65856 non-null  float64\n",
      " 4   total_precipitation      65856 non-null  float64\n",
      " 5   u_component_of_wind_10m  65856 non-null  float64\n",
      " 6   v_component_of_wind_10m  65856 non-null  float64\n",
      "dtypes: float64(6), object(1)\n",
      "memory usage: 3.5+ MB\n"
     ]
    }
   ],
   "source": [
    "met_df.info()"
   ]
  },
  {
   "cell_type": "code",
   "execution_count": 39,
   "id": "eb18596f",
   "metadata": {},
   "outputs": [
    {
     "data": {
      "text/html": [
       "\n",
       "            <style>\n",
       "                .geemap-dark {\n",
       "                    --jp-widgets-color: white;\n",
       "                    --jp-widgets-label-color: white;\n",
       "                    --jp-ui-font-color1: white;\n",
       "                    --jp-layout-color2: #454545;\n",
       "                    background-color: #383838;\n",
       "                }\n",
       "\n",
       "                .geemap-dark .jupyter-button {\n",
       "                    --jp-layout-color3: #383838;\n",
       "                }\n",
       "\n",
       "                .geemap-colab {\n",
       "                    background-color: var(--colab-primary-surface-color, white);\n",
       "                }\n",
       "\n",
       "                .geemap-colab .jupyter-button {\n",
       "                    --jp-layout-color3: var(--colab-primary-surface-color, white);\n",
       "                }\n",
       "            </style>\n",
       "            "
      ],
      "text/plain": [
       "<IPython.core.display.HTML object>"
      ]
     },
     "metadata": {},
     "output_type": "display_data"
    },
    {
     "name": "stdout",
     "output_type": "stream",
     "text": [
      "272.6005818402866 301.49645749550183\n",
      "97561.33011579818 100944.3042604272\n",
      "279.657177599052 317.35669046871\n",
      "0.0 0.0970591791580559\n",
      "-8.794175976004999 6.391561201724277\n",
      "-9.436180294575816 6.111418887691081\n"
     ]
    }
   ],
   "source": [
    "print(met_df[\"dewpoint_temperature_2m\"].min(), met_df[\"dewpoint_temperature_2m\"].max())\n",
    "print(met_df[\"surface_pressure\"].min(), met_df[\"surface_pressure\"].max())\n",
    "print(met_df[\"temperature_2m\"].min(), met_df[\"temperature_2m\"].max())\n",
    "print(met_df[\"total_precipitation\"].min(), met_df[\"total_precipitation\"].max())\n",
    "print(met_df[\"u_component_of_wind_10m\"].min(), met_df[\"u_component_of_wind_10m\"].max())\n",
    "print(met_df[\"v_component_of_wind_10m\"].min(), met_df[\"v_component_of_wind_10m\"].max())"
   ]
  },
  {
   "cell_type": "code",
   "execution_count": null,
   "id": "9ecce3db",
   "metadata": {},
   "outputs": [],
   "source": []
  }
 ],
 "metadata": {
  "kernelspec": {
   "display_name": "Python (pytorch_vision)",
   "language": "python",
   "name": "pytorch_vision"
  },
  "language_info": {
   "codemirror_mode": {
    "name": "ipython",
    "version": 3
   },
   "file_extension": ".py",
   "mimetype": "text/x-python",
   "name": "python",
   "nbconvert_exporter": "python",
   "pygments_lexer": "ipython3",
   "version": "3.12.3"
  }
 },
 "nbformat": 4,
 "nbformat_minor": 5
}
