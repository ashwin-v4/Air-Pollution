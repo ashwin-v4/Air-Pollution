{
 "cells": [
  {
   "cell_type": "code",
   "execution_count": 1,
   "id": "af8ff672",
   "metadata": {},
   "outputs": [],
   "source": [
    "import numpy as np\n",
    "import pandas as pd\n",
    "\n",
    "import matplotlib.pyplot as plt\n",
    "import seaborn as sns"
   ]
  },
  {
   "cell_type": "markdown",
   "id": "690a0d60",
   "metadata": {},
   "source": [
    "# Merging Data"
   ]
  },
  {
   "cell_type": "code",
   "execution_count": 2,
   "id": "fe21fc0a",
   "metadata": {},
   "outputs": [],
   "source": [
    "df_2018 = pd.read_csv(\"data/City_wise_raw_data_1Hr_2018_Asansol_1Hr.csv\")\n",
    "df_2019 = pd.read_csv(\"data/City_wise_raw_data_1Hr_2019_Asansol_1Hr.csv\")\n",
    "df_2020 = pd.read_csv(\"data/City_wise_raw_data_1Hr_2020_Asansol_1Hr.csv\")\n",
    "df_2021 = pd.read_csv(\"data/City_wise_raw_data_1Hr_2021_Asansol_1Hr.csv\")\n",
    "df_2022 = pd.read_csv(\"data/City_wise_raw_data_1Hr_2022_Asansol_1Hr.csv\")\n",
    "df_2023 = pd.read_csv(\"data/City_wise_raw_data_1Hr_2023_Asansol_1Hr.csv\")\n",
    "df_2024 = pd.read_csv(\"data/City_wise_raw_data_1Hr_2024_Asansol_1Hr.csv\")"
   ]
  },
  {
   "cell_type": "markdown",
   "id": "8e69d473",
   "metadata": {},
   "source": [
    "<b>Null Value Percentage of each year's dataset</b>\n",
    "- 2018: 23%\n",
    "- 2019 : 6%\n",
    "- 2020 : 17%\n",
    "- 2021 : 11%\n",
    "- 2022 : 5%\n",
    "- 2023 : 9%\n",
    "- 2024 : 0.8%\n",
    "\n",
    "According to cpcb data below 30% null values can be used for forecasting "
   ]
  },
  {
   "cell_type": "code",
   "execution_count": 3,
   "id": "c8f741af",
   "metadata": {},
   "outputs": [],
   "source": [
    "df_concat = pd.concat([df_2018, df_2019, df_2020, df_2021, df_2022, df_2023, df_2024], ignore_index=True)"
   ]
  },
  {
   "cell_type": "code",
   "execution_count": 4,
   "id": "b90239e5",
   "metadata": {},
   "outputs": [
    {
     "name": "stdout",
     "output_type": "stream",
     "text": [
      "Index(['Timestamp', 'PM2.5 (µg/m³)', 'PM10 (µg/m³)', 'NO (µg/m³)',\n",
      "       'NO2 (µg/m³)', 'NOx (ppb)', 'NH3 (µg/m³)', 'SO2 (µg/m³)', 'CO (mg/m³)',\n",
      "       'Ozone (µg/m³)', 'Benzene (µg/m³)', 'Toluene (µg/m³)', 'Xylene (µg/m³)',\n",
      "       'O Xylene (µg/m³)', 'Eth-Benzene (µg/m³)', 'MP-Xylene (µg/m³)',\n",
      "       'AT (°C)', 'RH (%)', 'WS (m/s)', 'WD (deg)', 'RF (mm)', 'TOT-RF (mm)',\n",
      "       'SR (W/mt2)', 'BP (mmHg)', 'VWS (m/s)'],\n",
      "      dtype='object')\n"
     ]
    }
   ],
   "source": [
    "print(df_concat.columns)"
   ]
  },
  {
   "cell_type": "markdown",
   "id": "9eb180e5",
   "metadata": {},
   "source": [
    "<b>We will be using 4 pollutants : PM2.5, PM10, NOx, SO2</b>"
   ]
  },
  {
   "cell_type": "code",
   "execution_count": 5,
   "id": "9b863fb8",
   "metadata": {},
   "outputs": [],
   "source": [
    "df_merged = df_concat[[\"Timestamp\", \"PM2.5 (µg/m³)\", \"PM10 (µg/m³)\", \"NOx (ppb)\", \"SO2 (µg/m³)\"]]"
   ]
  },
  {
   "cell_type": "code",
   "execution_count": 6,
   "id": "eca0e075",
   "metadata": {},
   "outputs": [
    {
     "name": "stdout",
     "output_type": "stream",
     "text": [
      "<class 'pandas.core.frame.DataFrame'>\n",
      "RangeIndex: 61368 entries, 0 to 61367\n",
      "Data columns (total 5 columns):\n",
      " #   Column         Non-Null Count  Dtype  \n",
      "---  ------         --------------  -----  \n",
      " 0   Timestamp      61368 non-null  object \n",
      " 1   PM2.5 (µg/m³)  55570 non-null  float64\n",
      " 2   PM10 (µg/m³)   55892 non-null  float64\n",
      " 3   NOx (ppb)      54987 non-null  float64\n",
      " 4   SO2 (µg/m³)    55725 non-null  float64\n",
      "dtypes: float64(4), object(1)\n",
      "memory usage: 2.3+ MB\n"
     ]
    }
   ],
   "source": [
    "df_merged.info()"
   ]
  },
  {
   "cell_type": "code",
   "execution_count": 7,
   "id": "f57b37d3",
   "metadata": {},
   "outputs": [
    {
     "data": {
      "text/html": [
       "<div>\n",
       "<style scoped>\n",
       "    .dataframe tbody tr th:only-of-type {\n",
       "        vertical-align: middle;\n",
       "    }\n",
       "\n",
       "    .dataframe tbody tr th {\n",
       "        vertical-align: top;\n",
       "    }\n",
       "\n",
       "    .dataframe thead th {\n",
       "        text-align: right;\n",
       "    }\n",
       "</style>\n",
       "<table border=\"1\" class=\"dataframe\">\n",
       "  <thead>\n",
       "    <tr style=\"text-align: right;\">\n",
       "      <th></th>\n",
       "      <th>Timestamp</th>\n",
       "      <th>PM2.5 (µg/m³)</th>\n",
       "      <th>PM10 (µg/m³)</th>\n",
       "      <th>NOx (ppb)</th>\n",
       "      <th>SO2 (µg/m³)</th>\n",
       "    </tr>\n",
       "  </thead>\n",
       "  <tbody>\n",
       "    <tr>\n",
       "      <th>0</th>\n",
       "      <td>2018-01-01 00:00:00</td>\n",
       "      <td>NaN</td>\n",
       "      <td>NaN</td>\n",
       "      <td>NaN</td>\n",
       "      <td>NaN</td>\n",
       "    </tr>\n",
       "    <tr>\n",
       "      <th>1</th>\n",
       "      <td>2018-01-01 01:00:00</td>\n",
       "      <td>NaN</td>\n",
       "      <td>NaN</td>\n",
       "      <td>NaN</td>\n",
       "      <td>NaN</td>\n",
       "    </tr>\n",
       "  </tbody>\n",
       "</table>\n",
       "</div>"
      ],
      "text/plain": [
       "             Timestamp  PM2.5 (µg/m³)  PM10 (µg/m³)  NOx (ppb)  SO2 (µg/m³)\n",
       "0  2018-01-01 00:00:00            NaN           NaN        NaN          NaN\n",
       "1  2018-01-01 01:00:00            NaN           NaN        NaN          NaN"
      ]
     },
     "execution_count": 7,
     "metadata": {},
     "output_type": "execute_result"
    }
   ],
   "source": [
    "df_merged.head(2)"
   ]
  },
  {
   "cell_type": "code",
   "execution_count": 8,
   "id": "747b99e5",
   "metadata": {},
   "outputs": [
    {
     "data": {
      "text/html": [
       "<div>\n",
       "<style scoped>\n",
       "    .dataframe tbody tr th:only-of-type {\n",
       "        vertical-align: middle;\n",
       "    }\n",
       "\n",
       "    .dataframe tbody tr th {\n",
       "        vertical-align: top;\n",
       "    }\n",
       "\n",
       "    .dataframe thead th {\n",
       "        text-align: right;\n",
       "    }\n",
       "</style>\n",
       "<table border=\"1\" class=\"dataframe\">\n",
       "  <thead>\n",
       "    <tr style=\"text-align: right;\">\n",
       "      <th></th>\n",
       "      <th>Timestamp</th>\n",
       "      <th>PM2.5 (µg/m³)</th>\n",
       "      <th>PM10 (µg/m³)</th>\n",
       "      <th>NOx (ppb)</th>\n",
       "      <th>SO2 (µg/m³)</th>\n",
       "    </tr>\n",
       "  </thead>\n",
       "  <tbody>\n",
       "    <tr>\n",
       "      <th>61366</th>\n",
       "      <td>2024-12-31 22:00:00</td>\n",
       "      <td>61.91</td>\n",
       "      <td>128.83</td>\n",
       "      <td>14.76</td>\n",
       "      <td>7.04</td>\n",
       "    </tr>\n",
       "    <tr>\n",
       "      <th>61367</th>\n",
       "      <td>2024-12-31 23:00:00</td>\n",
       "      <td>60.65</td>\n",
       "      <td>118.69</td>\n",
       "      <td>14.97</td>\n",
       "      <td>6.62</td>\n",
       "    </tr>\n",
       "  </tbody>\n",
       "</table>\n",
       "</div>"
      ],
      "text/plain": [
       "                 Timestamp  PM2.5 (µg/m³)  PM10 (µg/m³)  NOx (ppb)  \\\n",
       "61366  2024-12-31 22:00:00          61.91        128.83      14.76   \n",
       "61367  2024-12-31 23:00:00          60.65        118.69      14.97   \n",
       "\n",
       "       SO2 (µg/m³)  \n",
       "61366         7.04  \n",
       "61367         6.62  "
      ]
     },
     "execution_count": 8,
     "metadata": {},
     "output_type": "execute_result"
    }
   ],
   "source": [
    "df_merged.tail(2)"
   ]
  },
  {
   "cell_type": "markdown",
   "id": "b1e0e1f1",
   "metadata": {},
   "source": [
    "<b>Unit of Pollutants</b>  \n",
    "\n",
    "NOx : ppb - parts per billion  \n",
    "CO : mg/m³ - milligram per cubic meter  \n",
    "Remaining 6 pollutants : µg/m³ - microgram per cubic meter  \n",
    "\n",
    "1 mg = 1000 µg"
   ]
  },
  {
   "cell_type": "code",
   "execution_count": 9,
   "id": "a7f904fc",
   "metadata": {},
   "outputs": [],
   "source": [
    "df_merged.to_csv(\"data/Asansol Merged.csv\")"
   ]
  },
  {
   "cell_type": "markdown",
   "id": "c724388d",
   "metadata": {},
   "source": [
    "# Basic Preprocessing"
   ]
  },
  {
   "cell_type": "code",
   "execution_count": 10,
   "id": "2cda00cd",
   "metadata": {},
   "outputs": [],
   "source": [
    "df = df_merged.copy()"
   ]
  },
  {
   "cell_type": "code",
   "execution_count": 11,
   "id": "1864b522",
   "metadata": {},
   "outputs": [
    {
     "data": {
      "text/plain": [
       "4571"
      ]
     },
     "execution_count": 11,
     "metadata": {},
     "output_type": "execute_result"
    }
   ],
   "source": [
    "df[\"Timestamp\"] = pd.to_datetime(df[\"Timestamp\"])\n",
    "df = df.set_index(\"Timestamp\")\n",
    "\n",
    "df.duplicated().sum()"
   ]
  },
  {
   "cell_type": "markdown",
   "id": "45eae97d",
   "metadata": {},
   "source": [
    "All 4550 duplicates are rows with all columns as null values"
   ]
  },
  {
   "cell_type": "code",
   "execution_count": 12,
   "id": "6bf9e49c",
   "metadata": {},
   "outputs": [],
   "source": [
    "#df = df.rename(columns = {\"PM2.5 (µg/m³)\":\"PM2.5\", \"PM10 (µg/m³)\":\"PM10\", \"NO (µg/m³)\":\"NO\", \"NO2 (µg/m³)\":\"NO2\", \"NOx (ppb)\":\"NOx\", \"NH3 (µg/m³)\":\"NH3\", \"SO2 (µg/m³)\":\"SO2\", \"CO (mg/m³)\":\"CO\"})\n",
    "\n",
    "df = df.rename(columns = {\"PM2.5 (µg/m³)\":\"PM2.5\", \"PM10 (µg/m³)\":\"PM10\", \"NOx (ppb)\":\"NOx\", \"SO2 (µg/m³)\":\"SO2\"})"
   ]
  },
  {
   "cell_type": "code",
   "execution_count": 13,
   "id": "133e1198",
   "metadata": {},
   "outputs": [
    {
     "data": {
      "text/html": [
       "<div>\n",
       "<style scoped>\n",
       "    .dataframe tbody tr th:only-of-type {\n",
       "        vertical-align: middle;\n",
       "    }\n",
       "\n",
       "    .dataframe tbody tr th {\n",
       "        vertical-align: top;\n",
       "    }\n",
       "\n",
       "    .dataframe thead th {\n",
       "        text-align: right;\n",
       "    }\n",
       "</style>\n",
       "<table border=\"1\" class=\"dataframe\">\n",
       "  <thead>\n",
       "    <tr style=\"text-align: right;\">\n",
       "      <th></th>\n",
       "      <th>PM2.5</th>\n",
       "      <th>PM10</th>\n",
       "      <th>NOx</th>\n",
       "      <th>SO2</th>\n",
       "    </tr>\n",
       "    <tr>\n",
       "      <th>Timestamp</th>\n",
       "      <th></th>\n",
       "      <th></th>\n",
       "      <th></th>\n",
       "      <th></th>\n",
       "    </tr>\n",
       "  </thead>\n",
       "  <tbody>\n",
       "    <tr>\n",
       "      <th>2018-01-01 00:00:00</th>\n",
       "      <td>NaN</td>\n",
       "      <td>NaN</td>\n",
       "      <td>NaN</td>\n",
       "      <td>NaN</td>\n",
       "    </tr>\n",
       "    <tr>\n",
       "      <th>2018-01-01 01:00:00</th>\n",
       "      <td>NaN</td>\n",
       "      <td>NaN</td>\n",
       "      <td>NaN</td>\n",
       "      <td>NaN</td>\n",
       "    </tr>\n",
       "  </tbody>\n",
       "</table>\n",
       "</div>"
      ],
      "text/plain": [
       "                     PM2.5  PM10  NOx  SO2\n",
       "Timestamp                                 \n",
       "2018-01-01 00:00:00    NaN   NaN  NaN  NaN\n",
       "2018-01-01 01:00:00    NaN   NaN  NaN  NaN"
      ]
     },
     "execution_count": 13,
     "metadata": {},
     "output_type": "execute_result"
    }
   ],
   "source": [
    "df.head(2)"
   ]
  },
  {
   "cell_type": "markdown",
   "id": "e7f8b948",
   "metadata": {},
   "source": [
    "### Remove large blocks of Null Values"
   ]
  },
  {
   "cell_type": "code",
   "execution_count": 14,
   "id": "9b24cb78",
   "metadata": {},
   "outputs": [],
   "source": [
    "df = df[df.index >= \"2018-02-01 10:00:00\"]   # Remove entire january month due to null values"
   ]
  },
  {
   "cell_type": "code",
   "execution_count": 15,
   "id": "453735f9",
   "metadata": {},
   "outputs": [
    {
     "data": {
      "text/plain": [
       "3812"
      ]
     },
     "execution_count": 15,
     "metadata": {},
     "output_type": "execute_result"
    }
   ],
   "source": [
    "df.isnull().all(axis=1).sum()"
   ]
  },
  {
   "cell_type": "code",
   "execution_count": 16,
   "id": "96b59c82",
   "metadata": {},
   "outputs": [],
   "source": [
    "df[\"row_null\"] = df.isnull().all(axis=1).astype(int)"
   ]
  },
  {
   "cell_type": "code",
   "execution_count": 17,
   "id": "68786da6",
   "metadata": {},
   "outputs": [
    {
     "data": {
      "text/html": [
       "<div>\n",
       "<style scoped>\n",
       "    .dataframe tbody tr th:only-of-type {\n",
       "        vertical-align: middle;\n",
       "    }\n",
       "\n",
       "    .dataframe tbody tr th {\n",
       "        vertical-align: top;\n",
       "    }\n",
       "\n",
       "    .dataframe thead th {\n",
       "        text-align: right;\n",
       "    }\n",
       "</style>\n",
       "<table border=\"1\" class=\"dataframe\">\n",
       "  <thead>\n",
       "    <tr style=\"text-align: right;\">\n",
       "      <th></th>\n",
       "      <th>PM2.5</th>\n",
       "      <th>PM10</th>\n",
       "      <th>NOx</th>\n",
       "      <th>SO2</th>\n",
       "      <th>row_null</th>\n",
       "    </tr>\n",
       "    <tr>\n",
       "      <th>Timestamp</th>\n",
       "      <th></th>\n",
       "      <th></th>\n",
       "      <th></th>\n",
       "      <th></th>\n",
       "      <th></th>\n",
       "    </tr>\n",
       "  </thead>\n",
       "  <tbody>\n",
       "    <tr>\n",
       "      <th>2018-02-01 10:00:00</th>\n",
       "      <td>NaN</td>\n",
       "      <td>NaN</td>\n",
       "      <td>24.72</td>\n",
       "      <td>NaN</td>\n",
       "      <td>0</td>\n",
       "    </tr>\n",
       "    <tr>\n",
       "      <th>2018-02-01 11:00:00</th>\n",
       "      <td>131.02</td>\n",
       "      <td>238.25</td>\n",
       "      <td>31.02</td>\n",
       "      <td>30.63</td>\n",
       "      <td>0</td>\n",
       "    </tr>\n",
       "  </tbody>\n",
       "</table>\n",
       "</div>"
      ],
      "text/plain": [
       "                      PM2.5    PM10    NOx    SO2  row_null\n",
       "Timestamp                                                  \n",
       "2018-02-01 10:00:00     NaN     NaN  24.72    NaN         0\n",
       "2018-02-01 11:00:00  131.02  238.25  31.02  30.63         0"
      ]
     },
     "execution_count": 17,
     "metadata": {},
     "output_type": "execute_result"
    }
   ],
   "source": [
    "df.head(2)"
   ]
  },
  {
   "cell_type": "code",
   "execution_count": 18,
   "id": "b4ee21dc",
   "metadata": {},
   "outputs": [
    {
     "data": {
      "text/plain": [
       "(60614, 5)"
      ]
     },
     "execution_count": 18,
     "metadata": {},
     "output_type": "execute_result"
    }
   ],
   "source": [
    "df.shape"
   ]
  },
  {
   "cell_type": "code",
   "execution_count": 19,
   "id": "bd93b6c0",
   "metadata": {},
   "outputs": [
    {
     "data": {
      "text/plain": [
       "'block_center = (df[\\'row_null\\']\\n                .rolling(window=15, center=True)\\n                .sum() == 15)\\n\\n\\nblock_full = np.zeros(len(df), dtype=bool)\\n\\nfor idx in df[block_center].index:\\n    i = df.index.get_loc(idx)\\n    block_full[max(0, i-7):min(len(df), i+8)] = True\\n\\ndf[\\'block_null\\'] = block_full.astype(int)\\n\\ndf.to_csv(\"C:/Users/91741/Desktop/df_block.csv\")'"
      ]
     },
     "execution_count": 19,
     "metadata": {},
     "output_type": "execute_result"
    }
   ],
   "source": [
    "'''block_center = (df['row_null']\n",
    "                .rolling(window=15, center=True)\n",
    "                .sum() == 15)\n",
    "\n",
    "\n",
    "block_full = np.zeros(len(df), dtype=bool)\n",
    "\n",
    "for idx in df[block_center].index:\n",
    "    i = df.index.get_loc(idx)\n",
    "    block_full[max(0, i-7):min(len(df), i+8)] = True\n",
    "\n",
    "df['block_null'] = block_full.astype(int)\n",
    "\n",
    "df.to_csv(\"C:/Users/91741/Desktop/df_block.csv\")'''"
   ]
  },
  {
   "cell_type": "code",
   "execution_count": 20,
   "id": "72661695",
   "metadata": {},
   "outputs": [],
   "source": [
    "df = df[df[\"row_null\"] != 1]\n",
    "df = df.drop([\"row_null\"], axis=1)"
   ]
  },
  {
   "cell_type": "code",
   "execution_count": 21,
   "id": "d2243cee",
   "metadata": {},
   "outputs": [
    {
     "data": {
      "text/plain": [
       "0"
      ]
     },
     "execution_count": 21,
     "metadata": {},
     "output_type": "execute_result"
    }
   ],
   "source": [
    "df.isnull().all(axis=1).sum()"
   ]
  },
  {
   "cell_type": "code",
   "execution_count": 22,
   "id": "d057a254",
   "metadata": {},
   "outputs": [
    {
     "data": {
      "text/plain": [
       "PM2.5    1232\n",
       "PM10      910\n",
       "NOx      1815\n",
       "SO2      1077\n",
       "dtype: int64"
      ]
     },
     "execution_count": 22,
     "metadata": {},
     "output_type": "execute_result"
    }
   ],
   "source": [
    "df.isnull().sum()"
   ]
  },
  {
   "cell_type": "code",
   "execution_count": 23,
   "id": "ff67eeda",
   "metadata": {},
   "outputs": [
    {
     "name": "stderr",
     "output_type": "stream",
     "text": [
      "C:\\Users\\91741\\AppData\\Local\\Temp\\ipykernel_12996\\1354377464.py:5: FutureWarning: DataFrame.fillna with 'method' is deprecated and will raise in a future version. Use obj.ffill() or obj.bfill() instead.\n",
      "  df.fillna(method='ffill', limit=3, inplace=True)\n",
      "C:\\Users\\91741\\AppData\\Local\\Temp\\ipykernel_12996\\1354377464.py:6: FutureWarning: DataFrame.fillna with 'method' is deprecated and will raise in a future version. Use obj.ffill() or obj.bfill() instead.\n",
      "  df.fillna(method='bfill', limit=3, inplace=True)\n"
     ]
    }
   ],
   "source": [
    "# Step 1: Interpolate missing values (time-aware, continuous)\n",
    "df.interpolate(method='time', limit=12, inplace=True)\n",
    "\n",
    "# Step 2: Fill short edge gaps if any remain\n",
    "df.fillna(method='ffill', limit=3, inplace=True)\n",
    "df.fillna(method='bfill', limit=3, inplace=True)"
   ]
  },
  {
   "cell_type": "code",
   "execution_count": 24,
   "id": "4923a7a5",
   "metadata": {},
   "outputs": [],
   "source": [
    "df.dropna(inplace=True)"
   ]
  },
  {
   "cell_type": "code",
   "execution_count": 25,
   "id": "f89132da",
   "metadata": {},
   "outputs": [
    {
     "data": {
      "text/plain": [
       "PM2.5    0\n",
       "PM10     0\n",
       "NOx      0\n",
       "SO2      0\n",
       "dtype: int64"
      ]
     },
     "execution_count": 25,
     "metadata": {},
     "output_type": "execute_result"
    }
   ],
   "source": [
    "df.isnull().sum()"
   ]
  },
  {
   "cell_type": "code",
   "execution_count": 30,
   "id": "46a83096",
   "metadata": {},
   "outputs": [],
   "source": [
    "df_train = df.loc[:'2023-12-31', ]\n",
    "df_val = df.loc['2024-01-01':, ]"
   ]
  },
  {
   "cell_type": "markdown",
   "id": "d011326b",
   "metadata": {},
   "source": [
    "Split dataset into train-validation  \n",
    "Train Set: 2018 to 2023  \n",
    "Validation Set: 2024  \n",
    "Test Set: 2025"
   ]
  },
  {
   "cell_type": "code",
   "execution_count": 44,
   "id": "3f0aad57",
   "metadata": {},
   "outputs": [],
   "source": [
    "from sklearn.preprocessing import MinMaxScaler\n",
    "\n",
    "scaler = MinMaxScaler()\n",
    "\n",
    "train_sc = scaler.fit_transform(df_train)\n",
    "val_sc = scaler.transform(df_val)\n",
    "\n",
    "train_scaled = pd.DataFrame(train_sc, columns=scaler.get_feature_names_out(), index = df_train.index)\n",
    "val_scaled = pd.DataFrame(val_sc, columns=scaler.get_feature_names_out(), index = df_val.index)"
   ]
  },
  {
   "cell_type": "markdown",
   "id": "fc1c6bea",
   "metadata": {},
   "source": [
    "LSTM requires features in same scale"
   ]
  },
  {
   "cell_type": "code",
   "execution_count": 48,
   "id": "74c8b377",
   "metadata": {},
   "outputs": [
    {
     "name": "stdout",
     "output_type": "stream",
     "text": [
      "<class 'pandas.core.frame.DataFrame'>\n",
      "DatetimeIndex: 55882 entries, 2018-02-01 10:00:00 to 2024-12-31 23:00:00\n",
      "Data columns (total 4 columns):\n",
      " #   Column  Non-Null Count  Dtype  \n",
      "---  ------  --------------  -----  \n",
      " 0   PM2.5   55882 non-null  float64\n",
      " 1   PM10    55882 non-null  float64\n",
      " 2   NOx     55882 non-null  float64\n",
      " 3   SO2     55882 non-null  float64\n",
      "dtypes: float64(4)\n",
      "memory usage: 4.1 MB\n"
     ]
    }
   ],
   "source": [
    "df.info()"
   ]
  },
  {
   "cell_type": "markdown",
   "id": "baea9d61",
   "metadata": {},
   "source": [
    "# Modeling"
   ]
  },
  {
   "cell_type": "markdown",
   "id": "0d2ce942",
   "metadata": {},
   "source": [
    "### LSTM"
   ]
  },
  {
   "cell_type": "code",
   "execution_count": 27,
   "id": "6105fe1e",
   "metadata": {},
   "outputs": [],
   "source": [
    "import torch\n",
    "import torch.nn as nn\n",
    "\n",
    "class LSTMModel(nn.Module):\n",
    "\n",
    "    def __init__(self, input_size, ouptut_size, hidden_size, num_layers):\n",
    "        super(LSTMModel, self).__init__()\n",
    "        self.lstm(input_size=input_size, num_layers=num_layers, hidden_size=hidden_size)\n",
    "        self.fc = nn.Linear(hidden_size, ouptut_size)\n",
    "\n",
    "    def forward(self, x):\n",
    "        out, _ = self.lstm(x)\n",
    "        out = out[:, -1, :]\n",
    "        out = self.fc(out)\n",
    "        return out\n",
    "    \n",
    "    def train_one_epoch(model, dataloader, optimizer, loss_fn, device):\n",
    "        model.train()\n",
    "        total_loss = 0\n",
    "\n",
    "        for X_batch, y_batch in dataloader:\n",
    "            X_batch, y_batch = X_batch.to(device), y_batch.to(device)\n",
    "\n",
    "            optimizer.zero_grad()\n",
    "            \n",
    "            output = model(X_batch)\n",
    "            loss = loss_fn(output, y_batch)\n",
    "            loss.backward()\n",
    "            optimizer.step()\n",
    "            total_loss = loss.item()\n",
    "\n",
    "        return total_loss / len(dataloader)\n",
    "    \n",
    "    def evaluate(model, dataloader, loss_fn, device):\n",
    "        model.eval()\n",
    "        total_loss = 0\n",
    "        with torch.no_grad():\n",
    "            for X_batch, y_batch in dataloader:\n",
    "                X_batch, y_batch = X_batch.to(device), y_batch.to(device)\n",
    "                output = model(X_batch)\n",
    "                loss = loss_fn(output, y_batch)\n",
    "                total_loss += loss.item()\n",
    "        return total_loss / len(dataloader)"
   ]
  },
  {
   "cell_type": "code",
   "execution_count": 28,
   "id": "e0c0b87c",
   "metadata": {},
   "outputs": [
    {
     "ename": "TypeError",
     "evalue": "LSTMModel.__init__() missing 4 required positional arguments: 'input_size', 'ouptut_size', 'hidden_size', and 'num_layers'",
     "output_type": "error",
     "traceback": [
      "\u001b[1;31m---------------------------------------------------------------------------\u001b[0m",
      "\u001b[1;31mTypeError\u001b[0m                                 Traceback (most recent call last)",
      "Cell \u001b[1;32mIn[28], line 3\u001b[0m\n\u001b[0;32m      1\u001b[0m \u001b[38;5;66;03m# Setup\u001b[39;00m\n\u001b[0;32m      2\u001b[0m device \u001b[38;5;241m=\u001b[39m torch\u001b[38;5;241m.\u001b[39mdevice(\u001b[38;5;124m\"\u001b[39m\u001b[38;5;124mcuda\u001b[39m\u001b[38;5;124m\"\u001b[39m \u001b[38;5;28;01mif\u001b[39;00m torch\u001b[38;5;241m.\u001b[39mcuda\u001b[38;5;241m.\u001b[39mis_available() \u001b[38;5;28;01melse\u001b[39;00m \u001b[38;5;124m\"\u001b[39m\u001b[38;5;124mcpu\u001b[39m\u001b[38;5;124m\"\u001b[39m)\n\u001b[1;32m----> 3\u001b[0m model \u001b[38;5;241m=\u001b[39m LSTMModel()\u001b[38;5;241m.\u001b[39mto(device)\n\u001b[0;32m      4\u001b[0m loss_fn \u001b[38;5;241m=\u001b[39m nn\u001b[38;5;241m.\u001b[39mMSELoss()\n\u001b[0;32m      5\u001b[0m optimizer \u001b[38;5;241m=\u001b[39m torch\u001b[38;5;241m.\u001b[39moptim\u001b[38;5;241m.\u001b[39mAdam(model\u001b[38;5;241m.\u001b[39mparameters(), lr\u001b[38;5;241m=\u001b[39m\u001b[38;5;241m0.001\u001b[39m)\n",
      "\u001b[1;31mTypeError\u001b[0m: LSTMModel.__init__() missing 4 required positional arguments: 'input_size', 'ouptut_size', 'hidden_size', and 'num_layers'"
     ]
    }
   ],
   "source": [
    "# Setup\n",
    "device = torch.device(\"cuda\" if torch.cuda.is_available() else \"cpu\")\n",
    "model = LSTMModel().to(device)\n",
    "loss_fn = nn.MSELoss()\n",
    "optimizer = torch.optim.Adam(model.parameters(), lr=0.001)\n",
    "\n",
    "# Training\n",
    "num_epochs = 20\n",
    "for epoch in range(num_epochs):\n",
    "    train_loss = train_one_epoch(model, train_loader, optimizer, loss_fn, device)\n",
    "    val_loss = evaluate(model, val_loader, loss_fn, device)\n",
    "    print(f\"Epoch {epoch+1}/{num_epochs} | Train Loss: {train_loss:.4f} | Val Loss: {val_loss:.4f}\")\n"
   ]
  }
 ],
 "metadata": {
  "kernelspec": {
   "display_name": "Python (pytorch_vision)",
   "language": "python",
   "name": "pytorch_vision"
  },
  "language_info": {
   "codemirror_mode": {
    "name": "ipython",
    "version": 3
   },
   "file_extension": ".py",
   "mimetype": "text/x-python",
   "name": "python",
   "nbconvert_exporter": "python",
   "pygments_lexer": "ipython3",
   "version": "3.12.3"
  }
 },
 "nbformat": 4,
 "nbformat_minor": 5
}
