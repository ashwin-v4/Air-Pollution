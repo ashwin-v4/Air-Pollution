{
 "cells": [
  {
   "cell_type": "code",
   "execution_count": 81,
   "id": "af8ff672",
   "metadata": {},
   "outputs": [],
   "source": [
    "import numpy as np\n",
    "import pandas as pd\n",
    "\n",
    "import matplotlib.pyplot as plt\n",
    "import seaborn as sns"
   ]
  },
  {
   "cell_type": "markdown",
   "id": "690a0d60",
   "metadata": {},
   "source": [
    "# Merging Data"
   ]
  },
  {
   "cell_type": "code",
   "execution_count": 82,
   "id": "fe21fc0a",
   "metadata": {},
   "outputs": [],
   "source": [
    "df_2018 = pd.read_csv(\"data/City_wise_raw_data_1Hr_2018_Asansol_1Hr.csv\")\n",
    "df_2019 = pd.read_csv(\"data/City_wise_raw_data_1Hr_2019_Asansol_1Hr.csv\")\n",
    "df_2020 = pd.read_csv(\"data/City_wise_raw_data_1Hr_2020_Asansol_1Hr.csv\")\n",
    "df_2021 = pd.read_csv(\"data/City_wise_raw_data_1Hr_2021_Asansol_1Hr.csv\")\n",
    "df_2022 = pd.read_csv(\"data/City_wise_raw_data_1Hr_2022_Asansol_1Hr.csv\")\n",
    "df_2023 = pd.read_csv(\"data/City_wise_raw_data_1Hr_2023_Asansol_1Hr.csv\")\n",
    "df_2024 = pd.read_csv(\"data/City_wise_raw_data_1Hr_2024_Asansol_1Hr.csv\")"
   ]
  },
  {
   "cell_type": "markdown",
   "id": "8e69d473",
   "metadata": {},
   "source": [
    "<b>Null Value Percentage of each year's dataset</b>\n",
    "- 2018: 23%\n",
    "- 2019 : 6%\n",
    "- 2020 : 17%\n",
    "- 2021 : 11%\n",
    "- 2022 : 5%\n",
    "- 2023 : 9%\n",
    "- 2024 : 0.8%\n",
    "\n",
    "According to cpcb data below 30% null values can be used for forecasting "
   ]
  },
  {
   "cell_type": "code",
   "execution_count": 83,
   "id": "c8f741af",
   "metadata": {},
   "outputs": [],
   "source": [
    "df_concat = pd.concat([df_2018, df_2019, df_2020, df_2021, df_2022, df_2023, df_2024], ignore_index=True)"
   ]
  },
  {
   "cell_type": "markdown",
   "id": "9eb180e5",
   "metadata": {},
   "source": [
    "<b>We will be using 8 pollutants : PM2.5, PM10, NO, NO2, NOx, NH3, SO2, CO</b>"
   ]
  },
  {
   "cell_type": "code",
   "execution_count": 84,
   "id": "9b863fb8",
   "metadata": {},
   "outputs": [],
   "source": [
    "df_merged = df_concat[[\"Timestamp\", \"PM2.5 (µg/m³)\", \"PM10 (µg/m³)\", \"NO (µg/m³)\", \"NO2 (µg/m³)\", \"NOx (ppb)\", \"NH3 (µg/m³)\", \"SO2 (µg/m³)\", \"CO (mg/m³)\"]]"
   ]
  },
  {
   "cell_type": "code",
   "execution_count": 85,
   "id": "eca0e075",
   "metadata": {},
   "outputs": [
    {
     "name": "stdout",
     "output_type": "stream",
     "text": [
      "<class 'pandas.core.frame.DataFrame'>\n",
      "RangeIndex: 61368 entries, 0 to 61367\n",
      "Data columns (total 9 columns):\n",
      " #   Column         Non-Null Count  Dtype  \n",
      "---  ------         --------------  -----  \n",
      " 0   Timestamp      61368 non-null  object \n",
      " 1   PM2.5 (µg/m³)  55570 non-null  float64\n",
      " 2   PM10 (µg/m³)   55892 non-null  float64\n",
      " 3   NO (µg/m³)     54961 non-null  float64\n",
      " 4   NO2 (µg/m³)    54911 non-null  float64\n",
      " 5   NOx (ppb)      54987 non-null  float64\n",
      " 6   NH3 (µg/m³)    54880 non-null  float64\n",
      " 7   SO2 (µg/m³)    55725 non-null  float64\n",
      " 8   CO (mg/m³)     56194 non-null  float64\n",
      "dtypes: float64(8), object(1)\n",
      "memory usage: 4.2+ MB\n"
     ]
    }
   ],
   "source": [
    "df_merged.info()"
   ]
  },
  {
   "cell_type": "code",
   "execution_count": 86,
   "id": "f57b37d3",
   "metadata": {},
   "outputs": [
    {
     "data": {
      "text/html": [
       "<div>\n",
       "<style scoped>\n",
       "    .dataframe tbody tr th:only-of-type {\n",
       "        vertical-align: middle;\n",
       "    }\n",
       "\n",
       "    .dataframe tbody tr th {\n",
       "        vertical-align: top;\n",
       "    }\n",
       "\n",
       "    .dataframe thead th {\n",
       "        text-align: right;\n",
       "    }\n",
       "</style>\n",
       "<table border=\"1\" class=\"dataframe\">\n",
       "  <thead>\n",
       "    <tr style=\"text-align: right;\">\n",
       "      <th></th>\n",
       "      <th>Timestamp</th>\n",
       "      <th>PM2.5 (µg/m³)</th>\n",
       "      <th>PM10 (µg/m³)</th>\n",
       "      <th>NO (µg/m³)</th>\n",
       "      <th>NO2 (µg/m³)</th>\n",
       "      <th>NOx (ppb)</th>\n",
       "      <th>NH3 (µg/m³)</th>\n",
       "      <th>SO2 (µg/m³)</th>\n",
       "      <th>CO (mg/m³)</th>\n",
       "    </tr>\n",
       "  </thead>\n",
       "  <tbody>\n",
       "    <tr>\n",
       "      <th>0</th>\n",
       "      <td>2018-01-01 00:00:00</td>\n",
       "      <td>NaN</td>\n",
       "      <td>NaN</td>\n",
       "      <td>NaN</td>\n",
       "      <td>NaN</td>\n",
       "      <td>NaN</td>\n",
       "      <td>NaN</td>\n",
       "      <td>NaN</td>\n",
       "      <td>NaN</td>\n",
       "    </tr>\n",
       "    <tr>\n",
       "      <th>1</th>\n",
       "      <td>2018-01-01 01:00:00</td>\n",
       "      <td>NaN</td>\n",
       "      <td>NaN</td>\n",
       "      <td>NaN</td>\n",
       "      <td>NaN</td>\n",
       "      <td>NaN</td>\n",
       "      <td>NaN</td>\n",
       "      <td>NaN</td>\n",
       "      <td>NaN</td>\n",
       "    </tr>\n",
       "    <tr>\n",
       "      <th>2</th>\n",
       "      <td>2018-01-01 02:00:00</td>\n",
       "      <td>NaN</td>\n",
       "      <td>NaN</td>\n",
       "      <td>NaN</td>\n",
       "      <td>NaN</td>\n",
       "      <td>NaN</td>\n",
       "      <td>NaN</td>\n",
       "      <td>NaN</td>\n",
       "      <td>NaN</td>\n",
       "    </tr>\n",
       "  </tbody>\n",
       "</table>\n",
       "</div>"
      ],
      "text/plain": [
       "             Timestamp  PM2.5 (µg/m³)  PM10 (µg/m³)  NO (µg/m³)  NO2 (µg/m³)  \\\n",
       "0  2018-01-01 00:00:00            NaN           NaN         NaN          NaN   \n",
       "1  2018-01-01 01:00:00            NaN           NaN         NaN          NaN   \n",
       "2  2018-01-01 02:00:00            NaN           NaN         NaN          NaN   \n",
       "\n",
       "   NOx (ppb)  NH3 (µg/m³)  SO2 (µg/m³)  CO (mg/m³)  \n",
       "0        NaN          NaN          NaN         NaN  \n",
       "1        NaN          NaN          NaN         NaN  \n",
       "2        NaN          NaN          NaN         NaN  "
      ]
     },
     "execution_count": 86,
     "metadata": {},
     "output_type": "execute_result"
    }
   ],
   "source": [
    "df_merged.head(3)"
   ]
  },
  {
   "cell_type": "code",
   "execution_count": 87,
   "id": "747b99e5",
   "metadata": {},
   "outputs": [
    {
     "data": {
      "text/html": [
       "<div>\n",
       "<style scoped>\n",
       "    .dataframe tbody tr th:only-of-type {\n",
       "        vertical-align: middle;\n",
       "    }\n",
       "\n",
       "    .dataframe tbody tr th {\n",
       "        vertical-align: top;\n",
       "    }\n",
       "\n",
       "    .dataframe thead th {\n",
       "        text-align: right;\n",
       "    }\n",
       "</style>\n",
       "<table border=\"1\" class=\"dataframe\">\n",
       "  <thead>\n",
       "    <tr style=\"text-align: right;\">\n",
       "      <th></th>\n",
       "      <th>Timestamp</th>\n",
       "      <th>PM2.5 (µg/m³)</th>\n",
       "      <th>PM10 (µg/m³)</th>\n",
       "      <th>NO (µg/m³)</th>\n",
       "      <th>NO2 (µg/m³)</th>\n",
       "      <th>NOx (ppb)</th>\n",
       "      <th>NH3 (µg/m³)</th>\n",
       "      <th>SO2 (µg/m³)</th>\n",
       "      <th>CO (mg/m³)</th>\n",
       "    </tr>\n",
       "  </thead>\n",
       "  <tbody>\n",
       "    <tr>\n",
       "      <th>61363</th>\n",
       "      <td>2024-12-31 19:00:00</td>\n",
       "      <td>76.46</td>\n",
       "      <td>155.91</td>\n",
       "      <td>7.84</td>\n",
       "      <td>31.64</td>\n",
       "      <td>22.93</td>\n",
       "      <td>22.94</td>\n",
       "      <td>7.44</td>\n",
       "      <td>0.89</td>\n",
       "    </tr>\n",
       "    <tr>\n",
       "      <th>61364</th>\n",
       "      <td>2024-12-31 20:00:00</td>\n",
       "      <td>76.90</td>\n",
       "      <td>153.72</td>\n",
       "      <td>7.24</td>\n",
       "      <td>30.77</td>\n",
       "      <td>22.00</td>\n",
       "      <td>22.46</td>\n",
       "      <td>7.28</td>\n",
       "      <td>0.74</td>\n",
       "    </tr>\n",
       "    <tr>\n",
       "      <th>61365</th>\n",
       "      <td>2024-12-31 21:00:00</td>\n",
       "      <td>69.65</td>\n",
       "      <td>141.51</td>\n",
       "      <td>6.76</td>\n",
       "      <td>22.80</td>\n",
       "      <td>17.39</td>\n",
       "      <td>20.95</td>\n",
       "      <td>7.69</td>\n",
       "      <td>0.76</td>\n",
       "    </tr>\n",
       "    <tr>\n",
       "      <th>61366</th>\n",
       "      <td>2024-12-31 22:00:00</td>\n",
       "      <td>61.91</td>\n",
       "      <td>128.83</td>\n",
       "      <td>6.14</td>\n",
       "      <td>18.78</td>\n",
       "      <td>14.76</td>\n",
       "      <td>20.32</td>\n",
       "      <td>7.04</td>\n",
       "      <td>0.62</td>\n",
       "    </tr>\n",
       "    <tr>\n",
       "      <th>61367</th>\n",
       "      <td>2024-12-31 23:00:00</td>\n",
       "      <td>60.65</td>\n",
       "      <td>118.69</td>\n",
       "      <td>5.87</td>\n",
       "      <td>19.58</td>\n",
       "      <td>14.97</td>\n",
       "      <td>20.58</td>\n",
       "      <td>6.62</td>\n",
       "      <td>0.57</td>\n",
       "    </tr>\n",
       "  </tbody>\n",
       "</table>\n",
       "</div>"
      ],
      "text/plain": [
       "                 Timestamp  PM2.5 (µg/m³)  PM10 (µg/m³)  NO (µg/m³)  \\\n",
       "61363  2024-12-31 19:00:00          76.46        155.91        7.84   \n",
       "61364  2024-12-31 20:00:00          76.90        153.72        7.24   \n",
       "61365  2024-12-31 21:00:00          69.65        141.51        6.76   \n",
       "61366  2024-12-31 22:00:00          61.91        128.83        6.14   \n",
       "61367  2024-12-31 23:00:00          60.65        118.69        5.87   \n",
       "\n",
       "       NO2 (µg/m³)  NOx (ppb)  NH3 (µg/m³)  SO2 (µg/m³)  CO (mg/m³)  \n",
       "61363        31.64      22.93        22.94         7.44        0.89  \n",
       "61364        30.77      22.00        22.46         7.28        0.74  \n",
       "61365        22.80      17.39        20.95         7.69        0.76  \n",
       "61366        18.78      14.76        20.32         7.04        0.62  \n",
       "61367        19.58      14.97        20.58         6.62        0.57  "
      ]
     },
     "execution_count": 87,
     "metadata": {},
     "output_type": "execute_result"
    }
   ],
   "source": [
    "df_merged.tail()"
   ]
  },
  {
   "cell_type": "markdown",
   "id": "b1e0e1f1",
   "metadata": {},
   "source": [
    "<b>Unit of Pollutants</b>  \n",
    "\n",
    "NOx : ppb - parts per billion  \n",
    "CO : mg/m³ - milligram per cubic meter  \n",
    "Remaining 6 pollutants : µg/m³ - microgram per cubic meter  \n",
    "\n",
    "1 mg = 1000 µg"
   ]
  },
  {
   "cell_type": "code",
   "execution_count": 88,
   "id": "a7f904fc",
   "metadata": {},
   "outputs": [],
   "source": [
    "df_merged.to_csv(\"data/Asansol Merged.csv\")"
   ]
  },
  {
   "cell_type": "markdown",
   "id": "c724388d",
   "metadata": {},
   "source": [
    "# Basic Preprocessing"
   ]
  },
  {
   "cell_type": "code",
   "execution_count": 116,
   "id": "2cda00cd",
   "metadata": {},
   "outputs": [],
   "source": [
    "df = df_merged.copy()"
   ]
  },
  {
   "cell_type": "code",
   "execution_count": 117,
   "id": "1864b522",
   "metadata": {},
   "outputs": [
    {
     "data": {
      "text/plain": [
       "4550"
      ]
     },
     "execution_count": 117,
     "metadata": {},
     "output_type": "execute_result"
    }
   ],
   "source": [
    "df[\"Timestamp\"] = pd.to_datetime(df[\"Timestamp\"])\n",
    "df = df.set_index(\"Timestamp\")\n",
    "\n",
    "df.duplicated().sum()"
   ]
  },
  {
   "cell_type": "markdown",
   "id": "45eae97d",
   "metadata": {},
   "source": [
    "All 4550 duplicates are rows with all columns as null values"
   ]
  },
  {
   "cell_type": "code",
   "execution_count": 118,
   "id": "d6f63076",
   "metadata": {},
   "outputs": [
    {
     "name": "stdout",
     "output_type": "stream",
     "text": [
      "<class 'pandas.core.frame.DataFrame'>\n",
      "DatetimeIndex: 61368 entries, 2018-01-01 00:00:00 to 2024-12-31 23:00:00\n",
      "Data columns (total 8 columns):\n",
      " #   Column         Non-Null Count  Dtype  \n",
      "---  ------         --------------  -----  \n",
      " 0   PM2.5 (µg/m³)  55570 non-null  float64\n",
      " 1   PM10 (µg/m³)   55892 non-null  float64\n",
      " 2   NO (µg/m³)     54961 non-null  float64\n",
      " 3   NO2 (µg/m³)    54911 non-null  float64\n",
      " 4   NOx (ppb)      54987 non-null  float64\n",
      " 5   NH3 (µg/m³)    54880 non-null  float64\n",
      " 6   SO2 (µg/m³)    55725 non-null  float64\n",
      " 7   CO (mg/m³)     56194 non-null  float64\n",
      "dtypes: float64(8)\n",
      "memory usage: 4.2 MB\n"
     ]
    }
   ],
   "source": [
    "df.info()"
   ]
  },
  {
   "cell_type": "code",
   "execution_count": 125,
   "id": "6bf9e49c",
   "metadata": {},
   "outputs": [],
   "source": [
    "df = df.rename(columns = {\"PM2.5 (µg/m³)\":\"PM2.5\", \"PM10 (µg/m³)\":\"PM10\", \"NO (µg/m³)\":\"NO\", \"NO2 (µg/m³)\":\"NO2\", \n",
    "            \"NOx (ppb)\":\"NOx\", \"NH3 (µg/m³)\":\"NH3\", \"SO2 (µg/m³)\":\"SO2\", \"CO (mg/m³)\":\"CO\"})"
   ]
  },
  {
   "cell_type": "code",
   "execution_count": 126,
   "id": "133e1198",
   "metadata": {},
   "outputs": [
    {
     "data": {
      "text/html": [
       "<div>\n",
       "<style scoped>\n",
       "    .dataframe tbody tr th:only-of-type {\n",
       "        vertical-align: middle;\n",
       "    }\n",
       "\n",
       "    .dataframe tbody tr th {\n",
       "        vertical-align: top;\n",
       "    }\n",
       "\n",
       "    .dataframe thead th {\n",
       "        text-align: right;\n",
       "    }\n",
       "</style>\n",
       "<table border=\"1\" class=\"dataframe\">\n",
       "  <thead>\n",
       "    <tr style=\"text-align: right;\">\n",
       "      <th></th>\n",
       "      <th>PM2.5</th>\n",
       "      <th>PM10</th>\n",
       "      <th>NO</th>\n",
       "      <th>NO2</th>\n",
       "      <th>NOx</th>\n",
       "      <th>NH3</th>\n",
       "      <th>SO2</th>\n",
       "      <th>CO</th>\n",
       "    </tr>\n",
       "    <tr>\n",
       "      <th>Timestamp</th>\n",
       "      <th></th>\n",
       "      <th></th>\n",
       "      <th></th>\n",
       "      <th></th>\n",
       "      <th></th>\n",
       "      <th></th>\n",
       "      <th></th>\n",
       "      <th></th>\n",
       "    </tr>\n",
       "  </thead>\n",
       "  <tbody>\n",
       "    <tr>\n",
       "      <th>2018-01-01 00:00:00</th>\n",
       "      <td>NaN</td>\n",
       "      <td>NaN</td>\n",
       "      <td>NaN</td>\n",
       "      <td>NaN</td>\n",
       "      <td>NaN</td>\n",
       "      <td>NaN</td>\n",
       "      <td>NaN</td>\n",
       "      <td>NaN</td>\n",
       "    </tr>\n",
       "    <tr>\n",
       "      <th>2018-01-01 01:00:00</th>\n",
       "      <td>NaN</td>\n",
       "      <td>NaN</td>\n",
       "      <td>NaN</td>\n",
       "      <td>NaN</td>\n",
       "      <td>NaN</td>\n",
       "      <td>NaN</td>\n",
       "      <td>NaN</td>\n",
       "      <td>NaN</td>\n",
       "    </tr>\n",
       "    <tr>\n",
       "      <th>2018-01-01 02:00:00</th>\n",
       "      <td>NaN</td>\n",
       "      <td>NaN</td>\n",
       "      <td>NaN</td>\n",
       "      <td>NaN</td>\n",
       "      <td>NaN</td>\n",
       "      <td>NaN</td>\n",
       "      <td>NaN</td>\n",
       "      <td>NaN</td>\n",
       "    </tr>\n",
       "    <tr>\n",
       "      <th>2018-01-01 03:00:00</th>\n",
       "      <td>NaN</td>\n",
       "      <td>NaN</td>\n",
       "      <td>NaN</td>\n",
       "      <td>NaN</td>\n",
       "      <td>NaN</td>\n",
       "      <td>NaN</td>\n",
       "      <td>NaN</td>\n",
       "      <td>NaN</td>\n",
       "    </tr>\n",
       "    <tr>\n",
       "      <th>2018-01-01 04:00:00</th>\n",
       "      <td>NaN</td>\n",
       "      <td>NaN</td>\n",
       "      <td>NaN</td>\n",
       "      <td>NaN</td>\n",
       "      <td>NaN</td>\n",
       "      <td>NaN</td>\n",
       "      <td>NaN</td>\n",
       "      <td>NaN</td>\n",
       "    </tr>\n",
       "  </tbody>\n",
       "</table>\n",
       "</div>"
      ],
      "text/plain": [
       "                     PM2.5  PM10  NO  NO2  NOx  NH3  SO2  CO\n",
       "Timestamp                                                   \n",
       "2018-01-01 00:00:00    NaN   NaN NaN  NaN  NaN  NaN  NaN NaN\n",
       "2018-01-01 01:00:00    NaN   NaN NaN  NaN  NaN  NaN  NaN NaN\n",
       "2018-01-01 02:00:00    NaN   NaN NaN  NaN  NaN  NaN  NaN NaN\n",
       "2018-01-01 03:00:00    NaN   NaN NaN  NaN  NaN  NaN  NaN NaN\n",
       "2018-01-01 04:00:00    NaN   NaN NaN  NaN  NaN  NaN  NaN NaN"
      ]
     },
     "execution_count": 126,
     "metadata": {},
     "output_type": "execute_result"
    }
   ],
   "source": [
    "df.head()"
   ]
  },
  {
   "cell_type": "code",
   "execution_count": null,
   "id": "0d8f0c1e",
   "metadata": {},
   "outputs": [],
   "source": []
  }
 ],
 "metadata": {
  "kernelspec": {
   "display_name": "Python (pytorch_vision)",
   "language": "python",
   "name": "pytorch_vision"
  },
  "language_info": {
   "codemirror_mode": {
    "name": "ipython",
    "version": 3
   },
   "file_extension": ".py",
   "mimetype": "text/x-python",
   "name": "python",
   "nbconvert_exporter": "python",
   "pygments_lexer": "ipython3",
   "version": "3.12.3"
  }
 },
 "nbformat": 4,
 "nbformat_minor": 5
}
